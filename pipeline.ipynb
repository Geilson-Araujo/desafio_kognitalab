{
 "metadata": {
  "language_info": {
   "codemirror_mode": {
    "name": "ipython",
    "version": 3
   },
   "file_extension": ".py",
   "mimetype": "text/x-python",
   "name": "python",
   "nbconvert_exporter": "python",
   "pygments_lexer": "ipython3",
   "version": "3.7.10"
  },
  "orig_nbformat": 2,
  "kernelspec": {
   "name": "python3710jvsc74a57bd0eeea10eea9b6429a3dd68649761bdd181f39f18af3d255a7930f708a6595085c",
   "display_name": "Python 3.7.10 64-bit ('tensorflow': conda)"
  }
 },
 "nbformat": 4,
 "nbformat_minor": 2,
 "cells": [
  {
   "cell_type": "code",
   "execution_count": 1,
   "metadata": {},
   "outputs": [],
   "source": [
    "from collections import Counter\n",
    "\n",
    "import joblib\n",
    "\n",
    "import pandas as pd\n",
    "import numpy as np\n",
    "\n",
    "import matplotlib.pyplot as plt\n",
    "import seaborn as sns\n",
    "\n",
    "from sklearn.compose import make_column_selector, make_column_transformer\n",
    "from sklearn.model_selection import cross_val_score, train_test_split, RandomizedSearchCV\n",
    "from sklearn.impute import SimpleImputer\n",
    "from sklearn.preprocessing import MinMaxScaler, RobustScaler, StandardScaler\n",
    "from sklearn.metrics import (confusion_matrix, ConfusionMatrixDisplay, \n",
    "                             classification_report, f1_score)\n",
    "from sklearn.feature_selection import RFECV\n",
    "\n",
    "import category_encoders as ce\n",
    "\n",
    "from sklearn.linear_model import LogisticRegression\n",
    "from sklearn.neighbors import KNeighborsClassifier\n",
    "from sklearn.tree import DecisionTreeClassifier\n",
    "from sklearn.experimental import enable_hist_gradient_boosting\n",
    "from sklearn.ensemble import RandomForestClassifier, HistGradientBoostingClassifier\n",
    "\n",
    "import lightgbm as lgb\n",
    "import xgboost as xgb\n",
    "\n",
    "from imblearn.pipeline import make_pipeline\n",
    "from imblearn.over_sampling import SMOTE\n",
    "\n",
    "from tqdm.notebook import tqdm\n",
    "\n",
    "import warnings\n",
    "warnings.simplefilter('ignore')"
   ]
  },
  {
   "cell_type": "code",
   "execution_count": 2,
   "metadata": {},
   "outputs": [],
   "source": [
    "# Carrega a base de dados\n",
    "data = pd.read_csv('./_data/dataset_2021-5-26-10-14.csv', sep='\\t', \n",
    "                   encoding='utf-8', na_values='missing')\n",
    "\n",
    "# Remove a variável \"participacao_falencia_valor\" pois, de acordo com a \n",
    "# análise exploratória, não possui valores\n",
    "data.drop('participacao_falencia_valor', axis='columns', inplace=True)"
   ]
  },
  {
   "cell_type": "code",
   "execution_count": 3,
   "metadata": {},
   "outputs": [
    {
     "output_type": "stream",
     "name": "stdout",
     "text": [
      "A base de dados possui 117.273 linhas e 21 colunas.\n"
     ]
    }
   ],
   "source": [
    "# Exibe as dimensões da base de dados\n",
    "print(f'A base de dados possui {data.shape[0]:,} linhas e {data.shape[1]} colunas.'.replace(',', '.'))"
   ]
  },
  {
   "cell_type": "code",
   "execution_count": 4,
   "metadata": {},
   "outputs": [
    {
     "output_type": "stream",
     "name": "stdout",
     "text": [
      "A base de treino possui 93.818 linhas e 21 colunas.\nA base de teste possui 23.455 linhas e 21 colunas.\n"
     ]
    }
   ],
   "source": [
    "# Separa a base de dados: 80% de dados para teste e 20% dos dados para validação\n",
    "train_data, test_data = train_test_split(data, \n",
    "                                         test_size=0.2, \n",
    "                                         stratify=data['default'], # matém a distribuição proporcional à variável alvo\n",
    "                                         random_state=0)\n",
    "\n",
    "print(f'A base de treino possui {train_data.shape[0]:,} linhas e {train_data.shape[1]} colunas.'.replace(',', '.'), \n",
    "      f'A base de teste possui {test_data.shape[0]:,} linhas e {test_data.shape[1]} colunas.'.replace(',', '.'), sep='\\n')"
   ]
  },
  {
   "cell_type": "code",
   "execution_count": 5,
   "metadata": {},
   "outputs": [
    {
     "output_type": "execute_result",
     "data": {
      "text/plain": [
       "((93818, 20), (93818,))"
      ]
     },
     "metadata": {},
     "execution_count": 5
    }
   ],
   "source": [
    "# Separa as variáveis preditoras da variável alvo\n",
    "X = train_data.drop('default', axis='columns')\n",
    "y = train_data['default']\n",
    "\n",
    "# Sanity check\n",
    "X.shape, y.shape"
   ]
  },
  {
   "source": [
    "## Construção do pipeline de treinamento e validação"
   ],
   "cell_type": "markdown",
   "metadata": {}
  },
  {
   "cell_type": "code",
   "execution_count": 6,
   "metadata": {},
   "outputs": [
    {
     "output_type": "display_data",
     "data": {
      "text/plain": "  0%|          | 0/7 [00:00<?, ?it/s]",
      "application/vnd.jupyter.widget-view+json": {
       "version_major": 2,
       "version_minor": 0,
       "model_id": "ce0a4012423c4aa88f6b5513c0c25fe2"
      }
     },
     "metadata": {}
    },
    {
     "output_type": "stream",
     "name": "stdout",
     "text": [
      "F1 score: 0.4343 (+/- 0.0058), modelo: Logistic Regression.\n",
      "F1 score: 0.4805 (+/- 0.0047), modelo: KNN.\n",
      "F1 score: 0.5560 (+/- 0.0070), modelo: Decision Tree.\n",
      "F1 score: 0.6306 (+/- 0.0121), modelo: HistGradient.\n",
      "F1 score: 0.6903 (+/- 0.0101), modelo: Random Forest.\n",
      "F1 score: 0.7043 (+/- 0.0132), modelo: XGBoost.\n",
      "F1 score: 0.6323 (+/- 0.0101), modelo: LightGBM.\n",
      "Wall time: 16min 50s\n"
     ]
    }
   ],
   "source": [
    "%%time\r\n",
    "# Modelos que serão avaliados\r\n",
    "models = [\r\n",
    "  ('Logistic Regression', LogisticRegression(random_state=0, max_iter=1_000)),\r\n",
    "  ('KNN', KNeighborsClassifier()),\r\n",
    "  ('Decision Tree', DecisionTreeClassifier(random_state=0)),\r\n",
    "  ('HistGradient', HistGradientBoostingClassifier(random_state=0)),\r\n",
    "  ('Random Forest', RandomForestClassifier(random_state=0)),\r\n",
    "  ('XGBoost', xgb.XGBClassifier(random_state=0, n_jobs=-1)),\r\n",
    "  ('LightGBM', lgb.LGBMClassifier(random_state=0, n_jobs=-1)),\r\n",
    "]\r\n",
    "\r\n",
    "for name, model in tqdm(models):\r\n",
    "    \r\n",
    "    # Seleciona as features numéricas\r\n",
    "    num_features = make_column_selector(dtype_include=np.number)\r\n",
    "\r\n",
    "    # Seleciona as features categóricas\r\n",
    "    cat_features = make_column_selector(dtype_exclude=np.number)\r\n",
    "    \r\n",
    "    # Pré-processamento das variáveis\r\n",
    "    preprocessing = make_column_transformer(\r\n",
    "        (ce.TargetEncoder(), cat_features),  # transforma as features categóricas em numéricas, \r\n",
    "                                             # tratando os valores faltantes.\r\n",
    "        (StandardScaler(), num_features),    # padronização das features numéricas.\r\n",
    "    )\r\n",
    "    \r\n",
    "    # Pipeline final\r\n",
    "    pipe = make_pipeline(preprocessing,\r\n",
    "                         SMOTE(), # geração de dados sintéticos, a fim de balancear a base de dados\r\n",
    "                         model)\r\n",
    "    \r\n",
    "    # Validação cruzada\r\n",
    "    scores = cross_val_score(pipe, X, y, scoring='f1', cv=10, error_score='raise')\r\n",
    "\r\n",
    "    # Exibe o resultado do treinamento\r\n",
    "    print(f'F1 score: {scores.mean():.4f} (+/- {scores.std():.4f}), modelo: {name}.')"
   ]
  },
  {
   "source": [
    "> O modelo `XGBoost` apresentou melhor resultado de acordo com a métrica escolhida."
   ],
   "cell_type": "markdown",
   "metadata": {}
  },
  {
   "cell_type": "code",
   "execution_count": 7,
   "metadata": {},
   "outputs": [
    {
     "output_type": "stream",
     "name": "stdout",
     "text": [
      "F1 score: 0.7331 (+/- 0.0128).\nWall time: 30.3 s\n"
     ]
    }
   ],
   "source": [
    "%%time\n",
    "# Calcula o valor do parâmetro \"scale_pos_weight\" - para dados desbalanceados\n",
    "counter = Counter(y)\n",
    "scale_pos_weight = np.sqrt(counter[0] / counter[1])\n",
    "\n",
    "model = xgb.XGBClassifier(random_state=0, scale_pos_weight=scale_pos_weight, n_jobs=-1)\n",
    "\n",
    "num_features = make_column_selector(dtype_include=np.number)\n",
    "\n",
    "cat_features = make_column_selector(dtype_exclude=np.number)\n",
    "    \n",
    "preprocessing = make_column_transformer(\n",
    "    (ce.TargetEncoder(), cat_features),\n",
    "    (MinMaxScaler(), num_features),\n",
    ")\n",
    "    \n",
    "pipe = make_pipeline(preprocessing, \n",
    "                     model)\n",
    "    \n",
    "scores = cross_val_score(pipe, X, y, scoring='f1', cv=10, error_score='raise')\n",
    "\n",
    "print(f'F1 score: {scores.mean():.4f} (+/- {scores.std():.4f}).')"
   ]
  },
  {
   "source": [
    "## Seleção de _features_"
   ],
   "cell_type": "markdown",
   "metadata": {}
  },
  {
   "cell_type": "code",
   "execution_count": 8,
   "metadata": {},
   "outputs": [],
   "source": [
    "# counter = Counter(y)\n",
    "# scale_pos_weight = np.sqrt(counter[0] / counter[1])\n",
    "\n",
    "# model = xgb.XGBClassifier(objective='binary:logistic', scale_pos_weight=scale_pos_weight, random_state=0, n_jobs=-1)\n",
    "\n",
    "# num_features = make_column_selector(dtype_include=np.number)\n",
    "# cat_features = make_column_selector(dtype_exclude=np.number)\n",
    "\n",
    "# preprocessing = make_column_transformer(\n",
    "#     (ce.TargetEncoder(), cat_features),\n",
    "#     (MinMaxScaler(), num_features),\n",
    "# )\n",
    "\n",
    "# # Instancia um objeto RFECV para seleção recursiva de features\n",
    "# rfecv = RFECV(model, scoring='f1')\n",
    "\n",
    "# # Pipeline final\n",
    "# pipe = make_pipeline(preprocessing, RFECV(model), model)\n",
    "\n",
    "# scores = cross_val_score(pipe, X, y, scoring='f1', cv=10, \n",
    "#                          verbose=3, error_score='raise')\n",
    "\n",
    "# print(f'F1 score: {scores.mean():.4f} (+/- {scores.std():.4f}).')"
   ]
  },
  {
   "cell_type": "code",
   "execution_count": 9,
   "metadata": {},
   "outputs": [],
   "source": [
    "# # %%time\n",
    "# pipe.fit(X, y)\n",
    "# print(f'Número ótimo de features: {pipe[\"rfecv\"].n_features_}'')"
   ]
  },
  {
   "cell_type": "code",
   "execution_count": 10,
   "metadata": {},
   "outputs": [],
   "source": [
    "# # Exibe o ranking das features de acordo com a seleção recursiva\n",
    "# pd.DataFrame(pipe['rfecv'].ranking_, index=X.columns, columns=['rank']).sort_values('rank')"
   ]
  },
  {
   "source": [
    "## Fine-tuning"
   ],
   "cell_type": "markdown",
   "metadata": {}
  },
  {
   "source": [
    "%%time\n",
    "param_grid = {\n",
    "    'xgbclassifier__learning_rate': np.arange(0.05, 1, 0.05),\n",
    "    'xgbclassifier__max_depth': np.arange(5, 20, 5),\n",
    "    'xgbclassifier__n_estimators': np.arange(100, 1000, 100)\n",
    "}\n",
    "\n",
    "counter = Counter(y)\n",
    "scale_pos_weight = np.sqrt(counter[0] / counter[1])\n",
    "\n",
    "model = xgb.XGBClassifier(random_state=0, scale_pos_weight=scale_pos_weight, n_jobs=-1)\n",
    "\n",
    "num_features = make_column_selector(dtype_include=np.number)\n",
    "\n",
    "cat_features = make_column_selector(dtype_exclude=np.number)\n",
    "    \n",
    "preprocessing = make_column_transformer(\n",
    "    (ce.TargetEncoder(), cat_features),\n",
    "    (MinMaxScaler(), num_features),\n",
    ")\n",
    "    \n",
    "pipe = make_pipeline(preprocessing, \n",
    "                     model)\n",
    "\n",
    "# RandomizedSearchCV\n",
    "xgboost_classifier = RandomizedSearchCV(pipe, param_grid, n_iter=10, scoring='f1', verbose=2, cv=10)\n",
    "xgboost_classifier.fit(X, y)\n",
    "\n",
    "# Exibe as métricas\n",
    "print(f'F1 score: {xgboost_classifier.best_score_:.4f}')\n",
    "# print(xgboost_classifier.best_estimator_)"
   ],
   "cell_type": "code",
   "metadata": {},
   "execution_count": 11,
   "outputs": [
    {
     "output_type": "stream",
     "name": "stdout",
     "text": [
      "Fitting 10 folds for each of 10 candidates, totalling 100 fits\n",
      "[CV] END xgbclassifier__learning_rate=0.8, xgbclassifier__max_depth=5, xgbclassifier__n_estimators=900; total time=  19.1s\n",
      "[CV] END xgbclassifier__learning_rate=0.8, xgbclassifier__max_depth=5, xgbclassifier__n_estimators=900; total time=  19.3s\n",
      "[CV] END xgbclassifier__learning_rate=0.8, xgbclassifier__max_depth=5, xgbclassifier__n_estimators=900; total time=  20.0s\n",
      "[CV] END xgbclassifier__learning_rate=0.8, xgbclassifier__max_depth=5, xgbclassifier__n_estimators=900; total time=  19.2s\n",
      "[CV] END xgbclassifier__learning_rate=0.8, xgbclassifier__max_depth=5, xgbclassifier__n_estimators=900; total time=  19.0s\n",
      "[CV] END xgbclassifier__learning_rate=0.8, xgbclassifier__max_depth=5, xgbclassifier__n_estimators=900; total time=  19.2s\n",
      "[CV] END xgbclassifier__learning_rate=0.8, xgbclassifier__max_depth=5, xgbclassifier__n_estimators=900; total time=  19.3s\n",
      "[CV] END xgbclassifier__learning_rate=0.8, xgbclassifier__max_depth=5, xgbclassifier__n_estimators=900; total time=  19.4s\n",
      "[CV] END xgbclassifier__learning_rate=0.8, xgbclassifier__max_depth=5, xgbclassifier__n_estimators=900; total time=  20.9s\n",
      "[CV] END xgbclassifier__learning_rate=0.8, xgbclassifier__max_depth=5, xgbclassifier__n_estimators=900; total time=  20.5s\n",
      "[CV] END xgbclassifier__learning_rate=0.25, xgbclassifier__max_depth=5, xgbclassifier__n_estimators=400; total time=   8.8s\n",
      "[CV] END xgbclassifier__learning_rate=0.25, xgbclassifier__max_depth=5, xgbclassifier__n_estimators=400; total time=   8.8s\n",
      "[CV] END xgbclassifier__learning_rate=0.25, xgbclassifier__max_depth=5, xgbclassifier__n_estimators=400; total time=   8.8s\n",
      "[CV] END xgbclassifier__learning_rate=0.25, xgbclassifier__max_depth=5, xgbclassifier__n_estimators=400; total time=   8.8s\n",
      "[CV] END xgbclassifier__learning_rate=0.25, xgbclassifier__max_depth=5, xgbclassifier__n_estimators=400; total time=   8.7s\n",
      "[CV] END xgbclassifier__learning_rate=0.25, xgbclassifier__max_depth=5, xgbclassifier__n_estimators=400; total time=   8.6s\n",
      "[CV] END xgbclassifier__learning_rate=0.25, xgbclassifier__max_depth=5, xgbclassifier__n_estimators=400; total time=   8.4s\n",
      "[CV] END xgbclassifier__learning_rate=0.25, xgbclassifier__max_depth=5, xgbclassifier__n_estimators=400; total time=   8.7s\n",
      "[CV] END xgbclassifier__learning_rate=0.25, xgbclassifier__max_depth=5, xgbclassifier__n_estimators=400; total time=   8.5s\n",
      "[CV] END xgbclassifier__learning_rate=0.25, xgbclassifier__max_depth=5, xgbclassifier__n_estimators=400; total time=   9.0s\n",
      "[CV] END xgbclassifier__learning_rate=0.35000000000000003, xgbclassifier__max_depth=5, xgbclassifier__n_estimators=500; total time=  11.7s\n",
      "[CV] END xgbclassifier__learning_rate=0.35000000000000003, xgbclassifier__max_depth=5, xgbclassifier__n_estimators=500; total time=  11.8s\n",
      "[CV] END xgbclassifier__learning_rate=0.35000000000000003, xgbclassifier__max_depth=5, xgbclassifier__n_estimators=500; total time=  11.2s\n",
      "[CV] END xgbclassifier__learning_rate=0.35000000000000003, xgbclassifier__max_depth=5, xgbclassifier__n_estimators=500; total time=  10.8s\n",
      "[CV] END xgbclassifier__learning_rate=0.35000000000000003, xgbclassifier__max_depth=5, xgbclassifier__n_estimators=500; total time=  10.7s\n",
      "[CV] END xgbclassifier__learning_rate=0.35000000000000003, xgbclassifier__max_depth=5, xgbclassifier__n_estimators=500; total time=  10.7s\n",
      "[CV] END xgbclassifier__learning_rate=0.35000000000000003, xgbclassifier__max_depth=5, xgbclassifier__n_estimators=500; total time=  10.6s\n",
      "[CV] END xgbclassifier__learning_rate=0.35000000000000003, xgbclassifier__max_depth=5, xgbclassifier__n_estimators=500; total time=  10.9s\n",
      "[CV] END xgbclassifier__learning_rate=0.35000000000000003, xgbclassifier__max_depth=5, xgbclassifier__n_estimators=500; total time=  10.6s\n",
      "[CV] END xgbclassifier__learning_rate=0.35000000000000003, xgbclassifier__max_depth=5, xgbclassifier__n_estimators=500; total time=  10.8s\n",
      "[CV] END xgbclassifier__learning_rate=0.9000000000000001, xgbclassifier__max_depth=5, xgbclassifier__n_estimators=600; total time=  12.9s\n",
      "[CV] END xgbclassifier__learning_rate=0.9000000000000001, xgbclassifier__max_depth=5, xgbclassifier__n_estimators=600; total time=  13.0s\n",
      "[CV] END xgbclassifier__learning_rate=0.9000000000000001, xgbclassifier__max_depth=5, xgbclassifier__n_estimators=600; total time=  13.4s\n",
      "[CV] END xgbclassifier__learning_rate=0.9000000000000001, xgbclassifier__max_depth=5, xgbclassifier__n_estimators=600; total time=  13.9s\n",
      "[CV] END xgbclassifier__learning_rate=0.9000000000000001, xgbclassifier__max_depth=5, xgbclassifier__n_estimators=600; total time=  14.1s\n",
      "[CV] END xgbclassifier__learning_rate=0.9000000000000001, xgbclassifier__max_depth=5, xgbclassifier__n_estimators=600; total time=  14.4s\n",
      "[CV] END xgbclassifier__learning_rate=0.9000000000000001, xgbclassifier__max_depth=5, xgbclassifier__n_estimators=600; total time=  14.3s\n",
      "[CV] END xgbclassifier__learning_rate=0.9000000000000001, xgbclassifier__max_depth=5, xgbclassifier__n_estimators=600; total time=  14.5s\n",
      "[CV] END xgbclassifier__learning_rate=0.9000000000000001, xgbclassifier__max_depth=5, xgbclassifier__n_estimators=600; total time=  15.1s\n",
      "[CV] END xgbclassifier__learning_rate=0.9000000000000001, xgbclassifier__max_depth=5, xgbclassifier__n_estimators=600; total time=  14.2s\n",
      "[CV] END xgbclassifier__learning_rate=0.6500000000000001, xgbclassifier__max_depth=15, xgbclassifier__n_estimators=300; total time=  19.4s\n",
      "[CV] END xgbclassifier__learning_rate=0.6500000000000001, xgbclassifier__max_depth=15, xgbclassifier__n_estimators=300; total time=  19.5s\n",
      "[CV] END xgbclassifier__learning_rate=0.6500000000000001, xgbclassifier__max_depth=15, xgbclassifier__n_estimators=300; total time=  19.3s\n",
      "[CV] END xgbclassifier__learning_rate=0.6500000000000001, xgbclassifier__max_depth=15, xgbclassifier__n_estimators=300; total time=  19.3s\n",
      "[CV] END xgbclassifier__learning_rate=0.6500000000000001, xgbclassifier__max_depth=15, xgbclassifier__n_estimators=300; total time=  19.3s\n",
      "[CV] END xgbclassifier__learning_rate=0.6500000000000001, xgbclassifier__max_depth=15, xgbclassifier__n_estimators=300; total time=  19.1s\n",
      "[CV] END xgbclassifier__learning_rate=0.6500000000000001, xgbclassifier__max_depth=15, xgbclassifier__n_estimators=300; total time=  19.2s\n",
      "[CV] END xgbclassifier__learning_rate=0.6500000000000001, xgbclassifier__max_depth=15, xgbclassifier__n_estimators=300; total time=  18.9s\n",
      "[CV] END xgbclassifier__learning_rate=0.6500000000000001, xgbclassifier__max_depth=15, xgbclassifier__n_estimators=300; total time=  19.2s\n",
      "[CV] END xgbclassifier__learning_rate=0.6500000000000001, xgbclassifier__max_depth=15, xgbclassifier__n_estimators=300; total time=  19.2s\n",
      "[CV] END xgbclassifier__learning_rate=0.5, xgbclassifier__max_depth=10, xgbclassifier__n_estimators=100; total time=   4.9s\n",
      "[CV] END xgbclassifier__learning_rate=0.5, xgbclassifier__max_depth=10, xgbclassifier__n_estimators=100; total time=   4.7s\n",
      "[CV] END xgbclassifier__learning_rate=0.5, xgbclassifier__max_depth=10, xgbclassifier__n_estimators=100; total time=   4.9s\n",
      "[CV] END xgbclassifier__learning_rate=0.5, xgbclassifier__max_depth=10, xgbclassifier__n_estimators=100; total time=   4.9s\n",
      "[CV] END xgbclassifier__learning_rate=0.5, xgbclassifier__max_depth=10, xgbclassifier__n_estimators=100; total time=   4.9s\n",
      "[CV] END xgbclassifier__learning_rate=0.5, xgbclassifier__max_depth=10, xgbclassifier__n_estimators=100; total time=   5.0s\n",
      "[CV] END xgbclassifier__learning_rate=0.5, xgbclassifier__max_depth=10, xgbclassifier__n_estimators=100; total time=   4.9s\n",
      "[CV] END xgbclassifier__learning_rate=0.5, xgbclassifier__max_depth=10, xgbclassifier__n_estimators=100; total time=   4.9s\n",
      "[CV] END xgbclassifier__learning_rate=0.5, xgbclassifier__max_depth=10, xgbclassifier__n_estimators=100; total time=   4.9s\n",
      "[CV] END xgbclassifier__learning_rate=0.5, xgbclassifier__max_depth=10, xgbclassifier__n_estimators=100; total time=   4.9s\n",
      "[CV] END xgbclassifier__learning_rate=0.4, xgbclassifier__max_depth=5, xgbclassifier__n_estimators=300; total time=   7.0s\n",
      "[CV] END xgbclassifier__learning_rate=0.4, xgbclassifier__max_depth=5, xgbclassifier__n_estimators=300; total time=   7.0s\n",
      "[CV] END xgbclassifier__learning_rate=0.4, xgbclassifier__max_depth=5, xgbclassifier__n_estimators=300; total time=   6.9s\n",
      "[CV] END xgbclassifier__learning_rate=0.4, xgbclassifier__max_depth=5, xgbclassifier__n_estimators=300; total time=   7.0s\n",
      "[CV] END xgbclassifier__learning_rate=0.4, xgbclassifier__max_depth=5, xgbclassifier__n_estimators=300; total time=   7.0s\n",
      "[CV] END xgbclassifier__learning_rate=0.4, xgbclassifier__max_depth=5, xgbclassifier__n_estimators=300; total time=   7.0s\n",
      "[CV] END xgbclassifier__learning_rate=0.4, xgbclassifier__max_depth=5, xgbclassifier__n_estimators=300; total time=   7.0s\n",
      "[CV] END xgbclassifier__learning_rate=0.4, xgbclassifier__max_depth=5, xgbclassifier__n_estimators=300; total time=   7.0s\n",
      "[CV] END xgbclassifier__learning_rate=0.4, xgbclassifier__max_depth=5, xgbclassifier__n_estimators=300; total time=   7.0s\n",
      "[CV] END xgbclassifier__learning_rate=0.4, xgbclassifier__max_depth=5, xgbclassifier__n_estimators=300; total time=   7.1s\n",
      "[CV] END xgbclassifier__learning_rate=0.9000000000000001, xgbclassifier__max_depth=10, xgbclassifier__n_estimators=400; total time=  17.6s\n",
      "[CV] END xgbclassifier__learning_rate=0.9000000000000001, xgbclassifier__max_depth=10, xgbclassifier__n_estimators=400; total time=  17.5s\n",
      "[CV] END xgbclassifier__learning_rate=0.9000000000000001, xgbclassifier__max_depth=10, xgbclassifier__n_estimators=400; total time=  17.8s\n",
      "[CV] END xgbclassifier__learning_rate=0.9000000000000001, xgbclassifier__max_depth=10, xgbclassifier__n_estimators=400; total time=  17.6s\n",
      "[CV] END xgbclassifier__learning_rate=0.9000000000000001, xgbclassifier__max_depth=10, xgbclassifier__n_estimators=400; total time=  17.6s\n",
      "[CV] END xgbclassifier__learning_rate=0.9000000000000001, xgbclassifier__max_depth=10, xgbclassifier__n_estimators=400; total time=  17.9s\n",
      "[CV] END xgbclassifier__learning_rate=0.9000000000000001, xgbclassifier__max_depth=10, xgbclassifier__n_estimators=400; total time=  17.9s\n",
      "[CV] END xgbclassifier__learning_rate=0.9000000000000001, xgbclassifier__max_depth=10, xgbclassifier__n_estimators=400; total time=  17.5s\n",
      "[CV] END xgbclassifier__learning_rate=0.9000000000000001, xgbclassifier__max_depth=10, xgbclassifier__n_estimators=400; total time=  17.8s\n",
      "[CV] END xgbclassifier__learning_rate=0.9000000000000001, xgbclassifier__max_depth=10, xgbclassifier__n_estimators=400; total time=  17.9s\n",
      "[CV] END xgbclassifier__learning_rate=0.7500000000000001, xgbclassifier__max_depth=5, xgbclassifier__n_estimators=300; total time=   7.1s\n",
      "[CV] END xgbclassifier__learning_rate=0.7500000000000001, xgbclassifier__max_depth=5, xgbclassifier__n_estimators=300; total time=   7.0s\n",
      "[CV] END xgbclassifier__learning_rate=0.7500000000000001, xgbclassifier__max_depth=5, xgbclassifier__n_estimators=300; total time=   7.0s\n",
      "[CV] END xgbclassifier__learning_rate=0.7500000000000001, xgbclassifier__max_depth=5, xgbclassifier__n_estimators=300; total time=   7.1s\n",
      "[CV] END xgbclassifier__learning_rate=0.7500000000000001, xgbclassifier__max_depth=5, xgbclassifier__n_estimators=300; total time=   7.0s\n",
      "[CV] END xgbclassifier__learning_rate=0.7500000000000001, xgbclassifier__max_depth=5, xgbclassifier__n_estimators=300; total time=   7.0s\n",
      "[CV] END xgbclassifier__learning_rate=0.7500000000000001, xgbclassifier__max_depth=5, xgbclassifier__n_estimators=300; total time=   7.2s\n",
      "[CV] END xgbclassifier__learning_rate=0.7500000000000001, xgbclassifier__max_depth=5, xgbclassifier__n_estimators=300; total time=   7.1s\n",
      "[CV] END xgbclassifier__learning_rate=0.7500000000000001, xgbclassifier__max_depth=5, xgbclassifier__n_estimators=300; total time=   7.5s\n",
      "[CV] END xgbclassifier__learning_rate=0.7500000000000001, xgbclassifier__max_depth=5, xgbclassifier__n_estimators=300; total time=   7.2s\n",
      "[CV] END xgbclassifier__learning_rate=0.25, xgbclassifier__max_depth=5, xgbclassifier__n_estimators=300; total time=   7.0s\n",
      "[CV] END xgbclassifier__learning_rate=0.25, xgbclassifier__max_depth=5, xgbclassifier__n_estimators=300; total time=   7.0s\n",
      "[CV] END xgbclassifier__learning_rate=0.25, xgbclassifier__max_depth=5, xgbclassifier__n_estimators=300; total time=   7.0s\n",
      "[CV] END xgbclassifier__learning_rate=0.25, xgbclassifier__max_depth=5, xgbclassifier__n_estimators=300; total time=   6.9s\n",
      "[CV] END xgbclassifier__learning_rate=0.25, xgbclassifier__max_depth=5, xgbclassifier__n_estimators=300; total time=   6.9s\n",
      "[CV] END xgbclassifier__learning_rate=0.25, xgbclassifier__max_depth=5, xgbclassifier__n_estimators=300; total time=   7.0s\n",
      "[CV] END xgbclassifier__learning_rate=0.25, xgbclassifier__max_depth=5, xgbclassifier__n_estimators=300; total time=   7.1s\n",
      "[CV] END xgbclassifier__learning_rate=0.25, xgbclassifier__max_depth=5, xgbclassifier__n_estimators=300; total time=   6.9s\n",
      "[CV] END xgbclassifier__learning_rate=0.25, xgbclassifier__max_depth=5, xgbclassifier__n_estimators=300; total time=   7.1s\n",
      "[CV] END xgbclassifier__learning_rate=0.25, xgbclassifier__max_depth=5, xgbclassifier__n_estimators=300; total time=   6.9s\n",
      "F1 score: 0.8087\n",
      "Wall time: 19min 55s\n"
     ]
    }
   ]
  },
  {
   "cell_type": "code",
   "execution_count": 12,
   "metadata": {},
   "outputs": [
    {
     "output_type": "execute_result",
     "data": {
      "text/plain": [
       "['xgboost_classifier.sav']"
      ]
     },
     "metadata": {},
     "execution_count": 12
    }
   ],
   "source": [
    "# Salva o modelo\n",
    "joblib.dump(xgboost_classifier, 'xgboost_classifier.sav')"
   ]
  },
  {
   "source": [
    "## Avaliação do modelo"
   ],
   "cell_type": "markdown",
   "metadata": {}
  },
  {
   "cell_type": "code",
   "execution_count": 13,
   "metadata": {},
   "outputs": [],
   "source": [
    "# Carrega o modelo\n",
    "saved_model = joblib.load('./xgboost_classifier.sav')"
   ]
  },
  {
   "cell_type": "code",
   "execution_count": 14,
   "metadata": {},
   "outputs": [],
   "source": [
    "# Prepara os dados de teste\n",
    "X_test = test_data.drop(['default'], axis=1)\n",
    "y_test = test_data['default']"
   ]
  },
  {
   "cell_type": "code",
   "execution_count": 15,
   "metadata": {},
   "outputs": [
    {
     "output_type": "stream",
     "name": "stdout",
     "text": [
      "F1 score: 0.8050\n"
     ]
    }
   ],
   "source": [
    "# Gera predições a partir do modelo treinado\n",
    "y_pred = saved_model.best_estimator_.predict(X_test)\n",
    "print(f'F1 score: {f1_score(y_test, y_pred):.4f}')"
   ]
  },
  {
   "source": [
    "## Matrix de confusão"
   ],
   "cell_type": "markdown",
   "metadata": {}
  },
  {
   "cell_type": "code",
   "execution_count": 20,
   "metadata": {},
   "outputs": [
    {
     "output_type": "display_data",
     "data": {
      "text/plain": "<Figure size 504x504 with 2 Axes>",
      "image/svg+xml": "<?xml version=\"1.0\" encoding=\"utf-8\" standalone=\"no\"?>\r\n<!DOCTYPE svg PUBLIC \"-//W3C//DTD SVG 1.1//EN\"\r\n  \"http://www.w3.org/Graphics/SVG/1.1/DTD/svg11.dtd\">\r\n<!-- Created with matplotlib (https://matplotlib.org/) -->\r\n<svg height=\"269.819063pt\" version=\"1.1\" viewBox=\"0 0 505.945156 269.819063\" width=\"505.945156pt\" xmlns=\"http://www.w3.org/2000/svg\" xmlns:xlink=\"http://www.w3.org/1999/xlink\">\r\n <metadata>\r\n  <rdf:RDF xmlns:cc=\"http://creativecommons.org/ns#\" xmlns:dc=\"http://purl.org/dc/elements/1.1/\" xmlns:rdf=\"http://www.w3.org/1999/02/22-rdf-syntax-ns#\">\r\n   <cc:Work>\r\n    <dc:type rdf:resource=\"http://purl.org/dc/dcmitype/StillImage\"/>\r\n    <dc:date>2021-06-04T00:05:02.681832</dc:date>\r\n    <dc:format>image/svg+xml</dc:format>\r\n    <dc:creator>\r\n     <cc:Agent>\r\n      <dc:title>Matplotlib v3.3.4, https://matplotlib.org/</dc:title>\r\n     </cc:Agent>\r\n    </dc:creator>\r\n   </cc:Work>\r\n  </rdf:RDF>\r\n </metadata>\r\n <defs>\r\n  <style type=\"text/css\">*{stroke-linecap:butt;stroke-linejoin:round;}</style>\r\n </defs>\r\n <g id=\"figure_1\">\r\n  <g id=\"patch_1\">\r\n   <path d=\"M 0 269.819063 \r\nL 505.945156 269.819063 \r\nL 505.945156 0 \r\nL 0 0 \r\nz\r\n\" style=\"fill:none;\"/>\r\n  </g>\r\n  <g id=\"axes_1\">\r\n   <g id=\"patch_2\">\r\n    <path d=\"M 34.240625 232.262813 \r\nL 242.665625 232.262813 \r\nL 242.665625 23.837812 \r\nL 34.240625 23.837812 \r\nz\r\n\" style=\"fill:#ffffff;\"/>\r\n   </g>\r\n   <g clip-path=\"url(#p356d2df51f)\">\r\n    <image height=\"209\" id=\"image446c62fed2\" transform=\"scale(1 -1)translate(0 -209)\" width=\"209\" x=\"34.240625\" xlink:href=\"data:image/png;base64,\r\niVBORw0KGgoAAAANSUhEUgAAANEAAADRCAYAAABSOlfvAAACZ0lEQVR4nO3VsQ3CQAAEQUzkctwX7dAVpRBYOEEEyFSAHGzwIM1UcMnqpsfzvZ/4WfftNXoCB86jB8C/ExFEIoJIRBCJCCIRQSQiiEQEkYggEhFEIoJIRBCJCCIRQSQiiEQEkYggEhFEIoJIRBCJCCIRQSQiiEQEkYggEhFEIoJIRBCJCCIRQSQiiEQEkYggEhFEIoJIRBCJCCIRQSQiiEQEkYggEhFEIoJIRBCJCCIRQSQiiEQEkYggEhFEIoJIRBCJCCIRQSQiiEQEkYggEhFEIoJIRBCJCCIRQSQiiEQEkYggEhFEIoJIRBCJCCIRQSQiiEQEkYggEhFEIoJIRBCJCCIRQSQiiEQEkYggEhFEIoJIRBCJCCIRQSQiiEQEkYggEhFEIoJIRBCJCCIRQSQiiEQEkYggEhFEIoJIRBCJCCIRQSQiiEQE0TQvl330CL5bb9fREzjgiSASEUQigkhEEIkIIhFBJCKIRASRiCASEUQigkhEEIkIIhFBJCKIRASRiCASEUQigkhEEIkIIhFBJCKIRASRiCASEUQigkhEEIkIIhFBJCKIRASRiCASEUQigkhEEIkIIhFBJCKIRASRiCASEUQigkhEEIkIIhFBJCKIRASRiCASEUQigkhEEIkIIhFBJCKIRASRiCASEUQigkhEEIkIIhFBJCKIRASRiCASEUQigkhEEIkIIhFBJCKIRASRiCASEUQigkhEEIkIIhFBJCKIRASRiCASEUQigkhEEIkIIhFBJCKIRASRiCASEUQigkhEEIkIIhFBJCKIRASRiCASEUQigkhEEIkIIhFBJCKIPpkbDEuJx08uAAAAAElFTkSuQmCC\" y=\"-23.262813\"/>\r\n   </g>\r\n   <g id=\"matplotlib.axis_1\">\r\n    <g id=\"xtick_1\">\r\n     <g id=\"line2d_1\">\r\n      <defs>\r\n       <path d=\"M 0 0 \r\nL 0 3.5 \r\n\" id=\"mf982b5d19b\" style=\"stroke:#000000;stroke-width:0.8;\"/>\r\n      </defs>\r\n      <g>\r\n       <use style=\"stroke:#000000;stroke-width:0.8;\" x=\"86.346875\" xlink:href=\"#mf982b5d19b\" y=\"232.262813\"/>\r\n      </g>\r\n     </g>\r\n     <g id=\"text_1\">\r\n      <!-- 0 -->\r\n      <g transform=\"translate(83.165625 246.86125)scale(0.1 -0.1)\">\r\n       <defs>\r\n        <path d=\"M 31.78125 66.40625 \r\nQ 24.171875 66.40625 20.328125 58.90625 \r\nQ 16.5 51.421875 16.5 36.375 \r\nQ 16.5 21.390625 20.328125 13.890625 \r\nQ 24.171875 6.390625 31.78125 6.390625 \r\nQ 39.453125 6.390625 43.28125 13.890625 \r\nQ 47.125 21.390625 47.125 36.375 \r\nQ 47.125 51.421875 43.28125 58.90625 \r\nQ 39.453125 66.40625 31.78125 66.40625 \r\nz\r\nM 31.78125 74.21875 \r\nQ 44.046875 74.21875 50.515625 64.515625 \r\nQ 56.984375 54.828125 56.984375 36.375 \r\nQ 56.984375 17.96875 50.515625 8.265625 \r\nQ 44.046875 -1.421875 31.78125 -1.421875 \r\nQ 19.53125 -1.421875 13.0625 8.265625 \r\nQ 6.59375 17.96875 6.59375 36.375 \r\nQ 6.59375 54.828125 13.0625 64.515625 \r\nQ 19.53125 74.21875 31.78125 74.21875 \r\nz\r\n\" id=\"DejaVuSans-48\"/>\r\n       </defs>\r\n       <use xlink:href=\"#DejaVuSans-48\"/>\r\n      </g>\r\n     </g>\r\n    </g>\r\n    <g id=\"xtick_2\">\r\n     <g id=\"line2d_2\">\r\n      <g>\r\n       <use style=\"stroke:#000000;stroke-width:0.8;\" x=\"190.559375\" xlink:href=\"#mf982b5d19b\" y=\"232.262813\"/>\r\n      </g>\r\n     </g>\r\n     <g id=\"text_2\">\r\n      <!-- 1 -->\r\n      <g transform=\"translate(187.378125 246.86125)scale(0.1 -0.1)\">\r\n       <defs>\r\n        <path d=\"M 12.40625 8.296875 \r\nL 28.515625 8.296875 \r\nL 28.515625 63.921875 \r\nL 10.984375 60.40625 \r\nL 10.984375 69.390625 \r\nL 28.421875 72.90625 \r\nL 38.28125 72.90625 \r\nL 38.28125 8.296875 \r\nL 54.390625 8.296875 \r\nL 54.390625 0 \r\nL 12.40625 0 \r\nz\r\n\" id=\"DejaVuSans-49\"/>\r\n       </defs>\r\n       <use xlink:href=\"#DejaVuSans-49\"/>\r\n      </g>\r\n     </g>\r\n    </g>\r\n    <g id=\"text_3\">\r\n     <!-- Predicted label -->\r\n     <g transform=\"translate(101.300781 260.539375)scale(0.1 -0.1)\">\r\n      <defs>\r\n       <path d=\"M 19.671875 64.796875 \r\nL 19.671875 37.40625 \r\nL 32.078125 37.40625 \r\nQ 38.96875 37.40625 42.71875 40.96875 \r\nQ 46.484375 44.53125 46.484375 51.125 \r\nQ 46.484375 57.671875 42.71875 61.234375 \r\nQ 38.96875 64.796875 32.078125 64.796875 \r\nz\r\nM 9.8125 72.90625 \r\nL 32.078125 72.90625 \r\nQ 44.34375 72.90625 50.609375 67.359375 \r\nQ 56.890625 61.8125 56.890625 51.125 \r\nQ 56.890625 40.328125 50.609375 34.8125 \r\nQ 44.34375 29.296875 32.078125 29.296875 \r\nL 19.671875 29.296875 \r\nL 19.671875 0 \r\nL 9.8125 0 \r\nz\r\n\" id=\"DejaVuSans-80\"/>\r\n       <path d=\"M 41.109375 46.296875 \r\nQ 39.59375 47.171875 37.8125 47.578125 \r\nQ 36.03125 48 33.890625 48 \r\nQ 26.265625 48 22.1875 43.046875 \r\nQ 18.109375 38.09375 18.109375 28.8125 \r\nL 18.109375 0 \r\nL 9.078125 0 \r\nL 9.078125 54.6875 \r\nL 18.109375 54.6875 \r\nL 18.109375 46.1875 \r\nQ 20.953125 51.171875 25.484375 53.578125 \r\nQ 30.03125 56 36.53125 56 \r\nQ 37.453125 56 38.578125 55.875 \r\nQ 39.703125 55.765625 41.0625 55.515625 \r\nz\r\n\" id=\"DejaVuSans-114\"/>\r\n       <path d=\"M 56.203125 29.59375 \r\nL 56.203125 25.203125 \r\nL 14.890625 25.203125 \r\nQ 15.484375 15.921875 20.484375 11.0625 \r\nQ 25.484375 6.203125 34.421875 6.203125 \r\nQ 39.59375 6.203125 44.453125 7.46875 \r\nQ 49.3125 8.734375 54.109375 11.28125 \r\nL 54.109375 2.78125 \r\nQ 49.265625 0.734375 44.1875 -0.34375 \r\nQ 39.109375 -1.421875 33.890625 -1.421875 \r\nQ 20.796875 -1.421875 13.15625 6.1875 \r\nQ 5.515625 13.8125 5.515625 26.8125 \r\nQ 5.515625 40.234375 12.765625 48.109375 \r\nQ 20.015625 56 32.328125 56 \r\nQ 43.359375 56 49.78125 48.890625 \r\nQ 56.203125 41.796875 56.203125 29.59375 \r\nz\r\nM 47.21875 32.234375 \r\nQ 47.125 39.59375 43.09375 43.984375 \r\nQ 39.0625 48.390625 32.421875 48.390625 \r\nQ 24.90625 48.390625 20.390625 44.140625 \r\nQ 15.875 39.890625 15.1875 32.171875 \r\nz\r\n\" id=\"DejaVuSans-101\"/>\r\n       <path d=\"M 45.40625 46.390625 \r\nL 45.40625 75.984375 \r\nL 54.390625 75.984375 \r\nL 54.390625 0 \r\nL 45.40625 0 \r\nL 45.40625 8.203125 \r\nQ 42.578125 3.328125 38.25 0.953125 \r\nQ 33.9375 -1.421875 27.875 -1.421875 \r\nQ 17.96875 -1.421875 11.734375 6.484375 \r\nQ 5.515625 14.40625 5.515625 27.296875 \r\nQ 5.515625 40.1875 11.734375 48.09375 \r\nQ 17.96875 56 27.875 56 \r\nQ 33.9375 56 38.25 53.625 \r\nQ 42.578125 51.265625 45.40625 46.390625 \r\nz\r\nM 14.796875 27.296875 \r\nQ 14.796875 17.390625 18.875 11.75 \r\nQ 22.953125 6.109375 30.078125 6.109375 \r\nQ 37.203125 6.109375 41.296875 11.75 \r\nQ 45.40625 17.390625 45.40625 27.296875 \r\nQ 45.40625 37.203125 41.296875 42.84375 \r\nQ 37.203125 48.484375 30.078125 48.484375 \r\nQ 22.953125 48.484375 18.875 42.84375 \r\nQ 14.796875 37.203125 14.796875 27.296875 \r\nz\r\n\" id=\"DejaVuSans-100\"/>\r\n       <path d=\"M 9.421875 54.6875 \r\nL 18.40625 54.6875 \r\nL 18.40625 0 \r\nL 9.421875 0 \r\nz\r\nM 9.421875 75.984375 \r\nL 18.40625 75.984375 \r\nL 18.40625 64.59375 \r\nL 9.421875 64.59375 \r\nz\r\n\" id=\"DejaVuSans-105\"/>\r\n       <path d=\"M 48.78125 52.59375 \r\nL 48.78125 44.1875 \r\nQ 44.96875 46.296875 41.140625 47.34375 \r\nQ 37.3125 48.390625 33.40625 48.390625 \r\nQ 24.65625 48.390625 19.8125 42.84375 \r\nQ 14.984375 37.3125 14.984375 27.296875 \r\nQ 14.984375 17.28125 19.8125 11.734375 \r\nQ 24.65625 6.203125 33.40625 6.203125 \r\nQ 37.3125 6.203125 41.140625 7.25 \r\nQ 44.96875 8.296875 48.78125 10.40625 \r\nL 48.78125 2.09375 \r\nQ 45.015625 0.34375 40.984375 -0.53125 \r\nQ 36.96875 -1.421875 32.421875 -1.421875 \r\nQ 20.0625 -1.421875 12.78125 6.34375 \r\nQ 5.515625 14.109375 5.515625 27.296875 \r\nQ 5.515625 40.671875 12.859375 48.328125 \r\nQ 20.21875 56 33.015625 56 \r\nQ 37.15625 56 41.109375 55.140625 \r\nQ 45.0625 54.296875 48.78125 52.59375 \r\nz\r\n\" id=\"DejaVuSans-99\"/>\r\n       <path d=\"M 18.3125 70.21875 \r\nL 18.3125 54.6875 \r\nL 36.8125 54.6875 \r\nL 36.8125 47.703125 \r\nL 18.3125 47.703125 \r\nL 18.3125 18.015625 \r\nQ 18.3125 11.328125 20.140625 9.421875 \r\nQ 21.96875 7.515625 27.59375 7.515625 \r\nL 36.8125 7.515625 \r\nL 36.8125 0 \r\nL 27.59375 0 \r\nQ 17.1875 0 13.234375 3.875 \r\nQ 9.28125 7.765625 9.28125 18.015625 \r\nL 9.28125 47.703125 \r\nL 2.6875 47.703125 \r\nL 2.6875 54.6875 \r\nL 9.28125 54.6875 \r\nL 9.28125 70.21875 \r\nz\r\n\" id=\"DejaVuSans-116\"/>\r\n       <path id=\"DejaVuSans-32\"/>\r\n       <path d=\"M 9.421875 75.984375 \r\nL 18.40625 75.984375 \r\nL 18.40625 0 \r\nL 9.421875 0 \r\nz\r\n\" id=\"DejaVuSans-108\"/>\r\n       <path d=\"M 34.28125 27.484375 \r\nQ 23.390625 27.484375 19.1875 25 \r\nQ 14.984375 22.515625 14.984375 16.5 \r\nQ 14.984375 11.71875 18.140625 8.90625 \r\nQ 21.296875 6.109375 26.703125 6.109375 \r\nQ 34.1875 6.109375 38.703125 11.40625 \r\nQ 43.21875 16.703125 43.21875 25.484375 \r\nL 43.21875 27.484375 \r\nz\r\nM 52.203125 31.203125 \r\nL 52.203125 0 \r\nL 43.21875 0 \r\nL 43.21875 8.296875 \r\nQ 40.140625 3.328125 35.546875 0.953125 \r\nQ 30.953125 -1.421875 24.3125 -1.421875 \r\nQ 15.921875 -1.421875 10.953125 3.296875 \r\nQ 6 8.015625 6 15.921875 \r\nQ 6 25.140625 12.171875 29.828125 \r\nQ 18.359375 34.515625 30.609375 34.515625 \r\nL 43.21875 34.515625 \r\nL 43.21875 35.40625 \r\nQ 43.21875 41.609375 39.140625 45 \r\nQ 35.0625 48.390625 27.6875 48.390625 \r\nQ 23 48.390625 18.546875 47.265625 \r\nQ 14.109375 46.140625 10.015625 43.890625 \r\nL 10.015625 52.203125 \r\nQ 14.9375 54.109375 19.578125 55.046875 \r\nQ 24.21875 56 28.609375 56 \r\nQ 40.484375 56 46.34375 49.84375 \r\nQ 52.203125 43.703125 52.203125 31.203125 \r\nz\r\n\" id=\"DejaVuSans-97\"/>\r\n       <path d=\"M 48.6875 27.296875 \r\nQ 48.6875 37.203125 44.609375 42.84375 \r\nQ 40.53125 48.484375 33.40625 48.484375 \r\nQ 26.265625 48.484375 22.1875 42.84375 \r\nQ 18.109375 37.203125 18.109375 27.296875 \r\nQ 18.109375 17.390625 22.1875 11.75 \r\nQ 26.265625 6.109375 33.40625 6.109375 \r\nQ 40.53125 6.109375 44.609375 11.75 \r\nQ 48.6875 17.390625 48.6875 27.296875 \r\nz\r\nM 18.109375 46.390625 \r\nQ 20.953125 51.265625 25.265625 53.625 \r\nQ 29.59375 56 35.59375 56 \r\nQ 45.5625 56 51.78125 48.09375 \r\nQ 58.015625 40.1875 58.015625 27.296875 \r\nQ 58.015625 14.40625 51.78125 6.484375 \r\nQ 45.5625 -1.421875 35.59375 -1.421875 \r\nQ 29.59375 -1.421875 25.265625 0.953125 \r\nQ 20.953125 3.328125 18.109375 8.203125 \r\nL 18.109375 0 \r\nL 9.078125 0 \r\nL 9.078125 75.984375 \r\nL 18.109375 75.984375 \r\nz\r\n\" id=\"DejaVuSans-98\"/>\r\n      </defs>\r\n      <use xlink:href=\"#DejaVuSans-80\"/>\r\n      <use x=\"58.552734\" xlink:href=\"#DejaVuSans-114\"/>\r\n      <use x=\"97.416016\" xlink:href=\"#DejaVuSans-101\"/>\r\n      <use x=\"158.939453\" xlink:href=\"#DejaVuSans-100\"/>\r\n      <use x=\"222.416016\" xlink:href=\"#DejaVuSans-105\"/>\r\n      <use x=\"250.199219\" xlink:href=\"#DejaVuSans-99\"/>\r\n      <use x=\"305.179688\" xlink:href=\"#DejaVuSans-116\"/>\r\n      <use x=\"344.388672\" xlink:href=\"#DejaVuSans-101\"/>\r\n      <use x=\"405.912109\" xlink:href=\"#DejaVuSans-100\"/>\r\n      <use x=\"469.388672\" xlink:href=\"#DejaVuSans-32\"/>\r\n      <use x=\"501.175781\" xlink:href=\"#DejaVuSans-108\"/>\r\n      <use x=\"528.958984\" xlink:href=\"#DejaVuSans-97\"/>\r\n      <use x=\"590.238281\" xlink:href=\"#DejaVuSans-98\"/>\r\n      <use x=\"653.714844\" xlink:href=\"#DejaVuSans-101\"/>\r\n      <use x=\"715.238281\" xlink:href=\"#DejaVuSans-108\"/>\r\n     </g>\r\n    </g>\r\n   </g>\r\n   <g id=\"matplotlib.axis_2\">\r\n    <g id=\"ytick_1\">\r\n     <g id=\"line2d_3\">\r\n      <defs>\r\n       <path d=\"M 0 0 \r\nL -3.5 0 \r\n\" id=\"m7c8359b99f\" style=\"stroke:#000000;stroke-width:0.8;\"/>\r\n      </defs>\r\n      <g>\r\n       <use style=\"stroke:#000000;stroke-width:0.8;\" x=\"34.240625\" xlink:href=\"#m7c8359b99f\" y=\"75.944063\"/>\r\n      </g>\r\n     </g>\r\n     <g id=\"text_4\">\r\n      <!-- 0 -->\r\n      <g transform=\"translate(20.878125 79.743281)scale(0.1 -0.1)\">\r\n       <use xlink:href=\"#DejaVuSans-48\"/>\r\n      </g>\r\n     </g>\r\n    </g>\r\n    <g id=\"ytick_2\">\r\n     <g id=\"line2d_4\">\r\n      <g>\r\n       <use style=\"stroke:#000000;stroke-width:0.8;\" x=\"34.240625\" xlink:href=\"#m7c8359b99f\" y=\"180.156563\"/>\r\n      </g>\r\n     </g>\r\n     <g id=\"text_5\">\r\n      <!-- 1 -->\r\n      <g transform=\"translate(20.878125 183.955781)scale(0.1 -0.1)\">\r\n       <use xlink:href=\"#DejaVuSans-49\"/>\r\n      </g>\r\n     </g>\r\n    </g>\r\n    <g id=\"text_6\">\r\n     <!-- True label -->\r\n     <g transform=\"translate(14.798438 152.349531)rotate(-90)scale(0.1 -0.1)\">\r\n      <defs>\r\n       <path d=\"M -0.296875 72.90625 \r\nL 61.375 72.90625 \r\nL 61.375 64.59375 \r\nL 35.5 64.59375 \r\nL 35.5 0 \r\nL 25.59375 0 \r\nL 25.59375 64.59375 \r\nL -0.296875 64.59375 \r\nz\r\n\" id=\"DejaVuSans-84\"/>\r\n       <path d=\"M 8.5 21.578125 \r\nL 8.5 54.6875 \r\nL 17.484375 54.6875 \r\nL 17.484375 21.921875 \r\nQ 17.484375 14.15625 20.5 10.265625 \r\nQ 23.53125 6.390625 29.59375 6.390625 \r\nQ 36.859375 6.390625 41.078125 11.03125 \r\nQ 45.3125 15.671875 45.3125 23.6875 \r\nL 45.3125 54.6875 \r\nL 54.296875 54.6875 \r\nL 54.296875 0 \r\nL 45.3125 0 \r\nL 45.3125 8.40625 \r\nQ 42.046875 3.421875 37.71875 1 \r\nQ 33.40625 -1.421875 27.6875 -1.421875 \r\nQ 18.265625 -1.421875 13.375 4.4375 \r\nQ 8.5 10.296875 8.5 21.578125 \r\nz\r\nM 31.109375 56 \r\nz\r\n\" id=\"DejaVuSans-117\"/>\r\n      </defs>\r\n      <use xlink:href=\"#DejaVuSans-84\"/>\r\n      <use x=\"46.333984\" xlink:href=\"#DejaVuSans-114\"/>\r\n      <use x=\"87.447266\" xlink:href=\"#DejaVuSans-117\"/>\r\n      <use x=\"150.826172\" xlink:href=\"#DejaVuSans-101\"/>\r\n      <use x=\"212.349609\" xlink:href=\"#DejaVuSans-32\"/>\r\n      <use x=\"244.136719\" xlink:href=\"#DejaVuSans-108\"/>\r\n      <use x=\"271.919922\" xlink:href=\"#DejaVuSans-97\"/>\r\n      <use x=\"333.199219\" xlink:href=\"#DejaVuSans-98\"/>\r\n      <use x=\"396.675781\" xlink:href=\"#DejaVuSans-101\"/>\r\n      <use x=\"458.199219\" xlink:href=\"#DejaVuSans-108\"/>\r\n     </g>\r\n    </g>\r\n   </g>\r\n   <g id=\"patch_3\">\r\n    <path d=\"M 34.240625 232.262813 \r\nL 34.240625 23.837812 \r\n\" style=\"fill:none;stroke:#000000;stroke-linecap:square;stroke-linejoin:miter;stroke-width:0.8;\"/>\r\n   </g>\r\n   <g id=\"patch_4\">\r\n    <path d=\"M 242.665625 232.262813 \r\nL 242.665625 23.837812 \r\n\" style=\"fill:none;stroke:#000000;stroke-linecap:square;stroke-linejoin:miter;stroke-width:0.8;\"/>\r\n   </g>\r\n   <g id=\"patch_5\">\r\n    <path d=\"M 34.240625 232.262813 \r\nL 242.665625 232.262813 \r\n\" style=\"fill:none;stroke:#000000;stroke-linecap:square;stroke-linejoin:miter;stroke-width:0.8;\"/>\r\n   </g>\r\n   <g id=\"patch_6\">\r\n    <path d=\"M 34.240625 23.837812 \r\nL 242.665625 23.837812 \r\n\" style=\"fill:none;stroke:#000000;stroke-linecap:square;stroke-linejoin:miter;stroke-width:0.8;\"/>\r\n   </g>\r\n   <g id=\"text_7\">\r\n    <!-- 19114 -->\r\n    <g style=\"fill:#f7fbff;\" transform=\"translate(70.440625 78.703438)scale(0.1 -0.1)\">\r\n     <defs>\r\n      <path d=\"M 10.984375 1.515625 \r\nL 10.984375 10.5 \r\nQ 14.703125 8.734375 18.5 7.8125 \r\nQ 22.3125 6.890625 25.984375 6.890625 \r\nQ 35.75 6.890625 40.890625 13.453125 \r\nQ 46.046875 20.015625 46.78125 33.40625 \r\nQ 43.953125 29.203125 39.59375 26.953125 \r\nQ 35.25 24.703125 29.984375 24.703125 \r\nQ 19.046875 24.703125 12.671875 31.3125 \r\nQ 6.296875 37.9375 6.296875 49.421875 \r\nQ 6.296875 60.640625 12.9375 67.421875 \r\nQ 19.578125 74.21875 30.609375 74.21875 \r\nQ 43.265625 74.21875 49.921875 64.515625 \r\nQ 56.59375 54.828125 56.59375 36.375 \r\nQ 56.59375 19.140625 48.40625 8.859375 \r\nQ 40.234375 -1.421875 26.421875 -1.421875 \r\nQ 22.703125 -1.421875 18.890625 -0.6875 \r\nQ 15.09375 0.046875 10.984375 1.515625 \r\nz\r\nM 30.609375 32.421875 \r\nQ 37.25 32.421875 41.125 36.953125 \r\nQ 45.015625 41.5 45.015625 49.421875 \r\nQ 45.015625 57.28125 41.125 61.84375 \r\nQ 37.25 66.40625 30.609375 66.40625 \r\nQ 23.96875 66.40625 20.09375 61.84375 \r\nQ 16.21875 57.28125 16.21875 49.421875 \r\nQ 16.21875 41.5 20.09375 36.953125 \r\nQ 23.96875 32.421875 30.609375 32.421875 \r\nz\r\n\" id=\"DejaVuSans-57\"/>\r\n      <path d=\"M 37.796875 64.3125 \r\nL 12.890625 25.390625 \r\nL 37.796875 25.390625 \r\nz\r\nM 35.203125 72.90625 \r\nL 47.609375 72.90625 \r\nL 47.609375 25.390625 \r\nL 58.015625 25.390625 \r\nL 58.015625 17.1875 \r\nL 47.609375 17.1875 \r\nL 47.609375 0 \r\nL 37.796875 0 \r\nL 37.796875 17.1875 \r\nL 4.890625 17.1875 \r\nL 4.890625 26.703125 \r\nz\r\n\" id=\"DejaVuSans-52\"/>\r\n     </defs>\r\n     <use xlink:href=\"#DejaVuSans-49\"/>\r\n     <use x=\"63.623047\" xlink:href=\"#DejaVuSans-57\"/>\r\n     <use x=\"127.246094\" xlink:href=\"#DejaVuSans-49\"/>\r\n     <use x=\"190.869141\" xlink:href=\"#DejaVuSans-49\"/>\r\n     <use x=\"254.492188\" xlink:href=\"#DejaVuSans-52\"/>\r\n    </g>\r\n   </g>\r\n   <g id=\"text_8\">\r\n    <!-- 432 -->\r\n    <g style=\"fill:#08306b;\" transform=\"translate(181.015625 78.703438)scale(0.1 -0.1)\">\r\n     <defs>\r\n      <path d=\"M 40.578125 39.3125 \r\nQ 47.65625 37.796875 51.625 33 \r\nQ 55.609375 28.21875 55.609375 21.1875 \r\nQ 55.609375 10.40625 48.1875 4.484375 \r\nQ 40.765625 -1.421875 27.09375 -1.421875 \r\nQ 22.515625 -1.421875 17.65625 -0.515625 \r\nQ 12.796875 0.390625 7.625 2.203125 \r\nL 7.625 11.71875 \r\nQ 11.71875 9.328125 16.59375 8.109375 \r\nQ 21.484375 6.890625 26.8125 6.890625 \r\nQ 36.078125 6.890625 40.9375 10.546875 \r\nQ 45.796875 14.203125 45.796875 21.1875 \r\nQ 45.796875 27.640625 41.28125 31.265625 \r\nQ 36.765625 34.90625 28.71875 34.90625 \r\nL 20.21875 34.90625 \r\nL 20.21875 43.015625 \r\nL 29.109375 43.015625 \r\nQ 36.375 43.015625 40.234375 45.921875 \r\nQ 44.09375 48.828125 44.09375 54.296875 \r\nQ 44.09375 59.90625 40.109375 62.90625 \r\nQ 36.140625 65.921875 28.71875 65.921875 \r\nQ 24.65625 65.921875 20.015625 65.03125 \r\nQ 15.375 64.15625 9.8125 62.3125 \r\nL 9.8125 71.09375 \r\nQ 15.4375 72.65625 20.34375 73.4375 \r\nQ 25.25 74.21875 29.59375 74.21875 \r\nQ 40.828125 74.21875 47.359375 69.109375 \r\nQ 53.90625 64.015625 53.90625 55.328125 \r\nQ 53.90625 49.265625 50.4375 45.09375 \r\nQ 46.96875 40.921875 40.578125 39.3125 \r\nz\r\n\" id=\"DejaVuSans-51\"/>\r\n      <path d=\"M 19.1875 8.296875 \r\nL 53.609375 8.296875 \r\nL 53.609375 0 \r\nL 7.328125 0 \r\nL 7.328125 8.296875 \r\nQ 12.9375 14.109375 22.625 23.890625 \r\nQ 32.328125 33.6875 34.8125 36.53125 \r\nQ 39.546875 41.84375 41.421875 45.53125 \r\nQ 43.3125 49.21875 43.3125 52.78125 \r\nQ 43.3125 58.59375 39.234375 62.25 \r\nQ 35.15625 65.921875 28.609375 65.921875 \r\nQ 23.96875 65.921875 18.8125 64.3125 \r\nQ 13.671875 62.703125 7.8125 59.421875 \r\nL 7.8125 69.390625 \r\nQ 13.765625 71.78125 18.9375 73 \r\nQ 24.125 74.21875 28.421875 74.21875 \r\nQ 39.75 74.21875 46.484375 68.546875 \r\nQ 53.21875 62.890625 53.21875 53.421875 \r\nQ 53.21875 48.921875 51.53125 44.890625 \r\nQ 49.859375 40.875 45.40625 35.40625 \r\nQ 44.1875 33.984375 37.640625 27.21875 \r\nQ 31.109375 20.453125 19.1875 8.296875 \r\nz\r\n\" id=\"DejaVuSans-50\"/>\r\n     </defs>\r\n     <use xlink:href=\"#DejaVuSans-52\"/>\r\n     <use x=\"63.623047\" xlink:href=\"#DejaVuSans-51\"/>\r\n     <use x=\"127.246094\" xlink:href=\"#DejaVuSans-50\"/>\r\n    </g>\r\n   </g>\r\n   <g id=\"text_9\">\r\n    <!-- 985 -->\r\n    <g style=\"fill:#08306b;\" transform=\"translate(76.803125 182.915938)scale(0.1 -0.1)\">\r\n     <defs>\r\n      <path d=\"M 31.78125 34.625 \r\nQ 24.75 34.625 20.71875 30.859375 \r\nQ 16.703125 27.09375 16.703125 20.515625 \r\nQ 16.703125 13.921875 20.71875 10.15625 \r\nQ 24.75 6.390625 31.78125 6.390625 \r\nQ 38.8125 6.390625 42.859375 10.171875 \r\nQ 46.921875 13.96875 46.921875 20.515625 \r\nQ 46.921875 27.09375 42.890625 30.859375 \r\nQ 38.875 34.625 31.78125 34.625 \r\nz\r\nM 21.921875 38.8125 \r\nQ 15.578125 40.375 12.03125 44.71875 \r\nQ 8.5 49.078125 8.5 55.328125 \r\nQ 8.5 64.0625 14.71875 69.140625 \r\nQ 20.953125 74.21875 31.78125 74.21875 \r\nQ 42.671875 74.21875 48.875 69.140625 \r\nQ 55.078125 64.0625 55.078125 55.328125 \r\nQ 55.078125 49.078125 51.53125 44.71875 \r\nQ 48 40.375 41.703125 38.8125 \r\nQ 48.828125 37.15625 52.796875 32.3125 \r\nQ 56.78125 27.484375 56.78125 20.515625 \r\nQ 56.78125 9.90625 50.3125 4.234375 \r\nQ 43.84375 -1.421875 31.78125 -1.421875 \r\nQ 19.734375 -1.421875 13.25 4.234375 \r\nQ 6.78125 9.90625 6.78125 20.515625 \r\nQ 6.78125 27.484375 10.78125 32.3125 \r\nQ 14.796875 37.15625 21.921875 38.8125 \r\nz\r\nM 18.3125 54.390625 \r\nQ 18.3125 48.734375 21.84375 45.5625 \r\nQ 25.390625 42.390625 31.78125 42.390625 \r\nQ 38.140625 42.390625 41.71875 45.5625 \r\nQ 45.3125 48.734375 45.3125 54.390625 \r\nQ 45.3125 60.0625 41.71875 63.234375 \r\nQ 38.140625 66.40625 31.78125 66.40625 \r\nQ 25.390625 66.40625 21.84375 63.234375 \r\nQ 18.3125 60.0625 18.3125 54.390625 \r\nz\r\n\" id=\"DejaVuSans-56\"/>\r\n      <path d=\"M 10.796875 72.90625 \r\nL 49.515625 72.90625 \r\nL 49.515625 64.59375 \r\nL 19.828125 64.59375 \r\nL 19.828125 46.734375 \r\nQ 21.96875 47.46875 24.109375 47.828125 \r\nQ 26.265625 48.1875 28.421875 48.1875 \r\nQ 40.625 48.1875 47.75 41.5 \r\nQ 54.890625 34.8125 54.890625 23.390625 \r\nQ 54.890625 11.625 47.5625 5.09375 \r\nQ 40.234375 -1.421875 26.90625 -1.421875 \r\nQ 22.3125 -1.421875 17.546875 -0.640625 \r\nQ 12.796875 0.140625 7.71875 1.703125 \r\nL 7.71875 11.625 \r\nQ 12.109375 9.234375 16.796875 8.0625 \r\nQ 21.484375 6.890625 26.703125 6.890625 \r\nQ 35.15625 6.890625 40.078125 11.328125 \r\nQ 45.015625 15.765625 45.015625 23.390625 \r\nQ 45.015625 31 40.078125 35.4375 \r\nQ 35.15625 39.890625 26.703125 39.890625 \r\nQ 22.75 39.890625 18.8125 39.015625 \r\nQ 14.890625 38.140625 10.796875 36.28125 \r\nz\r\n\" id=\"DejaVuSans-53\"/>\r\n     </defs>\r\n     <use xlink:href=\"#DejaVuSans-57\"/>\r\n     <use x=\"63.623047\" xlink:href=\"#DejaVuSans-56\"/>\r\n     <use x=\"127.246094\" xlink:href=\"#DejaVuSans-53\"/>\r\n    </g>\r\n   </g>\r\n   <g id=\"text_10\">\r\n    <!-- 2924 -->\r\n    <g style=\"fill:#08306b;\" transform=\"translate(177.834375 182.915938)scale(0.1 -0.1)\">\r\n     <use xlink:href=\"#DejaVuSans-50\"/>\r\n     <use x=\"63.623047\" xlink:href=\"#DejaVuSans-57\"/>\r\n     <use x=\"127.246094\" xlink:href=\"#DejaVuSans-50\"/>\r\n     <use x=\"190.869141\" xlink:href=\"#DejaVuSans-52\"/>\r\n    </g>\r\n   </g>\r\n   <g id=\"text_11\">\r\n    <!-- Matriz de Confusão -->\r\n    <g transform=\"translate(70.955625 17.837812)scale(0.14 -0.14)\">\r\n     <defs>\r\n      <path d=\"M 9.8125 72.90625 \r\nL 24.515625 72.90625 \r\nL 43.109375 23.296875 \r\nL 61.8125 72.90625 \r\nL 76.515625 72.90625 \r\nL 76.515625 0 \r\nL 66.890625 0 \r\nL 66.890625 64.015625 \r\nL 48.09375 14.015625 \r\nL 38.1875 14.015625 \r\nL 19.390625 64.015625 \r\nL 19.390625 0 \r\nL 9.8125 0 \r\nz\r\n\" id=\"DejaVuSans-77\"/>\r\n      <path d=\"M 5.515625 54.6875 \r\nL 48.1875 54.6875 \r\nL 48.1875 46.484375 \r\nL 14.40625 7.171875 \r\nL 48.1875 7.171875 \r\nL 48.1875 0 \r\nL 4.296875 0 \r\nL 4.296875 8.203125 \r\nL 38.09375 47.515625 \r\nL 5.515625 47.515625 \r\nz\r\n\" id=\"DejaVuSans-122\"/>\r\n      <path d=\"M 64.40625 67.28125 \r\nL 64.40625 56.890625 \r\nQ 59.421875 61.53125 53.78125 63.8125 \r\nQ 48.140625 66.109375 41.796875 66.109375 \r\nQ 29.296875 66.109375 22.65625 58.46875 \r\nQ 16.015625 50.828125 16.015625 36.375 \r\nQ 16.015625 21.96875 22.65625 14.328125 \r\nQ 29.296875 6.6875 41.796875 6.6875 \r\nQ 48.140625 6.6875 53.78125 8.984375 \r\nQ 59.421875 11.28125 64.40625 15.921875 \r\nL 64.40625 5.609375 \r\nQ 59.234375 2.09375 53.4375 0.328125 \r\nQ 47.65625 -1.421875 41.21875 -1.421875 \r\nQ 24.65625 -1.421875 15.125 8.703125 \r\nQ 5.609375 18.84375 5.609375 36.375 \r\nQ 5.609375 53.953125 15.125 64.078125 \r\nQ 24.65625 74.21875 41.21875 74.21875 \r\nQ 47.75 74.21875 53.53125 72.484375 \r\nQ 59.328125 70.75 64.40625 67.28125 \r\nz\r\n\" id=\"DejaVuSans-67\"/>\r\n      <path d=\"M 30.609375 48.390625 \r\nQ 23.390625 48.390625 19.1875 42.75 \r\nQ 14.984375 37.109375 14.984375 27.296875 \r\nQ 14.984375 17.484375 19.15625 11.84375 \r\nQ 23.34375 6.203125 30.609375 6.203125 \r\nQ 37.796875 6.203125 41.984375 11.859375 \r\nQ 46.1875 17.53125 46.1875 27.296875 \r\nQ 46.1875 37.015625 41.984375 42.703125 \r\nQ 37.796875 48.390625 30.609375 48.390625 \r\nz\r\nM 30.609375 56 \r\nQ 42.328125 56 49.015625 48.375 \r\nQ 55.71875 40.765625 55.71875 27.296875 \r\nQ 55.71875 13.875 49.015625 6.21875 \r\nQ 42.328125 -1.421875 30.609375 -1.421875 \r\nQ 18.84375 -1.421875 12.171875 6.21875 \r\nQ 5.515625 13.875 5.515625 27.296875 \r\nQ 5.515625 40.765625 12.171875 48.375 \r\nQ 18.84375 56 30.609375 56 \r\nz\r\n\" id=\"DejaVuSans-111\"/>\r\n      <path d=\"M 54.890625 33.015625 \r\nL 54.890625 0 \r\nL 45.90625 0 \r\nL 45.90625 32.71875 \r\nQ 45.90625 40.484375 42.875 44.328125 \r\nQ 39.84375 48.1875 33.796875 48.1875 \r\nQ 26.515625 48.1875 22.3125 43.546875 \r\nQ 18.109375 38.921875 18.109375 30.90625 \r\nL 18.109375 0 \r\nL 9.078125 0 \r\nL 9.078125 54.6875 \r\nL 18.109375 54.6875 \r\nL 18.109375 46.1875 \r\nQ 21.34375 51.125 25.703125 53.5625 \r\nQ 30.078125 56 35.796875 56 \r\nQ 45.21875 56 50.046875 50.171875 \r\nQ 54.890625 44.34375 54.890625 33.015625 \r\nz\r\n\" id=\"DejaVuSans-110\"/>\r\n      <path d=\"M 37.109375 75.984375 \r\nL 37.109375 68.5 \r\nL 28.515625 68.5 \r\nQ 23.6875 68.5 21.796875 66.546875 \r\nQ 19.921875 64.59375 19.921875 59.515625 \r\nL 19.921875 54.6875 \r\nL 34.71875 54.6875 \r\nL 34.71875 47.703125 \r\nL 19.921875 47.703125 \r\nL 19.921875 0 \r\nL 10.890625 0 \r\nL 10.890625 47.703125 \r\nL 2.296875 47.703125 \r\nL 2.296875 54.6875 \r\nL 10.890625 54.6875 \r\nL 10.890625 58.5 \r\nQ 10.890625 67.625 15.140625 71.796875 \r\nQ 19.390625 75.984375 28.609375 75.984375 \r\nz\r\n\" id=\"DejaVuSans-102\"/>\r\n      <path d=\"M 44.28125 53.078125 \r\nL 44.28125 44.578125 \r\nQ 40.484375 46.53125 36.375 47.5 \r\nQ 32.28125 48.484375 27.875 48.484375 \r\nQ 21.1875 48.484375 17.84375 46.4375 \r\nQ 14.5 44.390625 14.5 40.28125 \r\nQ 14.5 37.15625 16.890625 35.375 \r\nQ 19.28125 33.59375 26.515625 31.984375 \r\nL 29.59375 31.296875 \r\nQ 39.15625 29.25 43.1875 25.515625 \r\nQ 47.21875 21.78125 47.21875 15.09375 \r\nQ 47.21875 7.46875 41.1875 3.015625 \r\nQ 35.15625 -1.421875 24.609375 -1.421875 \r\nQ 20.21875 -1.421875 15.453125 -0.5625 \r\nQ 10.6875 0.296875 5.421875 2 \r\nL 5.421875 11.28125 \r\nQ 10.40625 8.6875 15.234375 7.390625 \r\nQ 20.0625 6.109375 24.8125 6.109375 \r\nQ 31.15625 6.109375 34.5625 8.28125 \r\nQ 37.984375 10.453125 37.984375 14.40625 \r\nQ 37.984375 18.0625 35.515625 20.015625 \r\nQ 33.0625 21.96875 24.703125 23.78125 \r\nL 21.578125 24.515625 \r\nQ 13.234375 26.265625 9.515625 29.90625 \r\nQ 5.8125 33.546875 5.8125 39.890625 \r\nQ 5.8125 47.609375 11.28125 51.796875 \r\nQ 16.75 56 26.8125 56 \r\nQ 31.78125 56 36.171875 55.265625 \r\nQ 40.578125 54.546875 44.28125 53.078125 \r\nz\r\n\" id=\"DejaVuSans-115\"/>\r\n      <path d=\"M 34.28125 27.484375 \r\nQ 23.390625 27.484375 19.1875 25 \r\nQ 14.984375 22.515625 14.984375 16.5 \r\nQ 14.984375 11.71875 18.140625 8.90625 \r\nQ 21.296875 6.109375 26.703125 6.109375 \r\nQ 34.1875 6.109375 38.703125 11.40625 \r\nQ 43.21875 16.703125 43.21875 25.484375 \r\nL 43.21875 27.484375 \r\nz\r\nM 52.203125 31.203125 \r\nL 52.203125 0 \r\nL 43.21875 0 \r\nL 43.21875 8.296875 \r\nQ 40.140625 3.328125 35.546875 0.953125 \r\nQ 30.953125 -1.421875 24.3125 -1.421875 \r\nQ 15.921875 -1.421875 10.953125 3.296875 \r\nQ 6 8.015625 6 15.921875 \r\nQ 6 25.140625 12.171875 29.828125 \r\nQ 18.359375 34.515625 30.609375 34.515625 \r\nL 43.21875 34.515625 \r\nL 43.21875 35.40625 \r\nQ 43.21875 41.609375 39.140625 45 \r\nQ 35.0625 48.390625 27.6875 48.390625 \r\nQ 23 48.390625 18.546875 47.265625 \r\nQ 14.109375 46.140625 10.015625 43.890625 \r\nL 10.015625 52.203125 \r\nQ 14.9375 54.109375 19.578125 55.046875 \r\nQ 24.21875 56 28.609375 56 \r\nQ 40.484375 56 46.34375 49.84375 \r\nQ 52.203125 43.703125 52.203125 31.203125 \r\nz\r\nM 28.8125 66.890625 \r\nL 26.03125 69.578125 \r\nQ 24.953125 70.5625 24.140625 71.015625 \r\nQ 23.34375 71.484375 22.703125 71.484375 \r\nQ 20.84375 71.484375 19.96875 69.703125 \r\nQ 19.09375 67.921875 19 63.921875 \r\nL 12.890625 63.921875 \r\nQ 12.984375 70.515625 15.46875 74.09375 \r\nQ 17.96875 77.6875 22.40625 77.6875 \r\nQ 24.265625 77.6875 25.828125 77 \r\nQ 27.390625 76.3125 29.203125 74.703125 \r\nL 31.984375 72.015625 \r\nQ 33.0625 71.046875 33.859375 70.578125 \r\nQ 34.671875 70.125 35.296875 70.125 \r\nQ 37.15625 70.125 38.03125 71.90625 \r\nQ 38.921875 73.6875 39.015625 77.6875 \r\nL 45.125 77.6875 \r\nQ 45.015625 71.09375 42.53125 67.5 \r\nQ 40.046875 63.921875 35.59375 63.921875 \r\nQ 33.734375 63.921875 32.171875 64.59375 \r\nQ 30.609375 65.28125 28.8125 66.890625 \r\nz\r\n\" id=\"DejaVuSans-227\"/>\r\n     </defs>\r\n     <use xlink:href=\"#DejaVuSans-77\"/>\r\n     <use x=\"86.279297\" xlink:href=\"#DejaVuSans-97\"/>\r\n     <use x=\"147.558594\" xlink:href=\"#DejaVuSans-116\"/>\r\n     <use x=\"186.767578\" xlink:href=\"#DejaVuSans-114\"/>\r\n     <use x=\"227.880859\" xlink:href=\"#DejaVuSans-105\"/>\r\n     <use x=\"255.664062\" xlink:href=\"#DejaVuSans-122\"/>\r\n     <use x=\"308.154297\" xlink:href=\"#DejaVuSans-32\"/>\r\n     <use x=\"339.941406\" xlink:href=\"#DejaVuSans-100\"/>\r\n     <use x=\"403.417969\" xlink:href=\"#DejaVuSans-101\"/>\r\n     <use x=\"464.941406\" xlink:href=\"#DejaVuSans-32\"/>\r\n     <use x=\"496.728516\" xlink:href=\"#DejaVuSans-67\"/>\r\n     <use x=\"566.552734\" xlink:href=\"#DejaVuSans-111\"/>\r\n     <use x=\"627.734375\" xlink:href=\"#DejaVuSans-110\"/>\r\n     <use x=\"691.113281\" xlink:href=\"#DejaVuSans-102\"/>\r\n     <use x=\"726.318359\" xlink:href=\"#DejaVuSans-117\"/>\r\n     <use x=\"789.697266\" xlink:href=\"#DejaVuSans-115\"/>\r\n     <use x=\"841.796875\" xlink:href=\"#DejaVuSans-227\"/>\r\n     <use x=\"903.076172\" xlink:href=\"#DejaVuSans-111\"/>\r\n    </g>\r\n   </g>\r\n  </g>\r\n  <g id=\"axes_2\">\r\n   <g id=\"patch_7\">\r\n    <path d=\"M 280.840625 232.262813 \r\nL 489.265625 232.262813 \r\nL 489.265625 23.837812 \r\nL 280.840625 23.837812 \r\nz\r\n\" style=\"fill:#ffffff;\"/>\r\n   </g>\r\n   <g clip-path=\"url(#pb9e1e14fbd)\">\r\n    <image height=\"209\" id=\"image6a8d7b7534\" transform=\"scale(1 -1)translate(0 -209)\" width=\"209\" x=\"280.840625\" xlink:href=\"data:image/png;base64,\r\niVBORw0KGgoAAAANSUhEUgAAANEAAADRCAYAAABSOlfvAAACaUlEQVR4nO3VMQ3CUABFUcpUOVWDCdwQHHUhqQU8VEJRQDrc4UNyjoK33Lzp9d6PCz/r9lhHT+DEdfQA+HcigkhEEIkIIhFBJCKIRASRiCASEUQigkhEEIkIIhFBJCKIRASRiCASEUQigkhEEIkIIhFBJCKIRASRiCASEUQigkhEEIkIIhFBJCKIRASRiCASEUQigkhEEIkIIhFBJCKIRASRiCASEUQigkhEEIkIIhFBJCKIRASRiCASEUQigkhEEIkIIhFBJCKIRASRiCASEUQigkhEEIkIIhFBJCKIRASRiCASEUQigkhEEIkIIhFBJCKIRASRiCASEUQigkhEEIkIIhFBJCKIRASRiCASEUQigkhEEIkIIhFBJCKIRASRiCASEUQigkhEEIkIIhFBJCKIRASRiCASEUQigkhEEIkIIhFBJCKIRASRiCCa5uV+jB7Bd/v2HD2BE54IIhFBJCKIRASRiCASEUQigkhEEIkIIhFBJCKIRASRiCASEUQigkhEEIkIIhFBJCKIRASRiCASEUQigkhEEIkIIhFBJCKIRASRiCASEUQigkhEEIkIIhFBJCKIRASRiCASEUQigkhEEIkIIhFBJCKIRASRiCASEUQigkhEEIkIIhFBJCKIRASRiCASEUQigkhEEIkIIhFBJCKIRASRiCASEUQigkhEEIkIIhFBJCKIRASRiCASEUQigkhEEIkIIhFBJCKIRASRiCASEUQigkhEEIkIIhFBJCKIRASRiCASEUQigkhEEIkIIhFBJCKIRASRiCASEUQigkhEEIkIIhFBJCKIRASRiCASEUQigugDSIEKzoo2iTYAAAAASUVORK5CYII=\" y=\"-23.262813\"/>\r\n   </g>\r\n   <g id=\"matplotlib.axis_3\">\r\n    <g id=\"xtick_3\">\r\n     <g id=\"line2d_5\">\r\n      <g>\r\n       <use style=\"stroke:#000000;stroke-width:0.8;\" x=\"332.946875\" xlink:href=\"#mf982b5d19b\" y=\"232.262813\"/>\r\n      </g>\r\n     </g>\r\n     <g id=\"text_12\">\r\n      <!-- 0 -->\r\n      <g transform=\"translate(329.765625 246.86125)scale(0.1 -0.1)\">\r\n       <use xlink:href=\"#DejaVuSans-48\"/>\r\n      </g>\r\n     </g>\r\n    </g>\r\n    <g id=\"xtick_4\">\r\n     <g id=\"line2d_6\">\r\n      <g>\r\n       <use style=\"stroke:#000000;stroke-width:0.8;\" x=\"437.159375\" xlink:href=\"#mf982b5d19b\" y=\"232.262813\"/>\r\n      </g>\r\n     </g>\r\n     <g id=\"text_13\">\r\n      <!-- 1 -->\r\n      <g transform=\"translate(433.978125 246.86125)scale(0.1 -0.1)\">\r\n       <use xlink:href=\"#DejaVuSans-49\"/>\r\n      </g>\r\n     </g>\r\n    </g>\r\n    <g id=\"text_14\">\r\n     <!-- Predicted label -->\r\n     <g transform=\"translate(347.900781 260.539375)scale(0.1 -0.1)\">\r\n      <use xlink:href=\"#DejaVuSans-80\"/>\r\n      <use x=\"58.552734\" xlink:href=\"#DejaVuSans-114\"/>\r\n      <use x=\"97.416016\" xlink:href=\"#DejaVuSans-101\"/>\r\n      <use x=\"158.939453\" xlink:href=\"#DejaVuSans-100\"/>\r\n      <use x=\"222.416016\" xlink:href=\"#DejaVuSans-105\"/>\r\n      <use x=\"250.199219\" xlink:href=\"#DejaVuSans-99\"/>\r\n      <use x=\"305.179688\" xlink:href=\"#DejaVuSans-116\"/>\r\n      <use x=\"344.388672\" xlink:href=\"#DejaVuSans-101\"/>\r\n      <use x=\"405.912109\" xlink:href=\"#DejaVuSans-100\"/>\r\n      <use x=\"469.388672\" xlink:href=\"#DejaVuSans-32\"/>\r\n      <use x=\"501.175781\" xlink:href=\"#DejaVuSans-108\"/>\r\n      <use x=\"528.958984\" xlink:href=\"#DejaVuSans-97\"/>\r\n      <use x=\"590.238281\" xlink:href=\"#DejaVuSans-98\"/>\r\n      <use x=\"653.714844\" xlink:href=\"#DejaVuSans-101\"/>\r\n      <use x=\"715.238281\" xlink:href=\"#DejaVuSans-108\"/>\r\n     </g>\r\n    </g>\r\n   </g>\r\n   <g id=\"matplotlib.axis_4\">\r\n    <g id=\"ytick_3\">\r\n     <g id=\"line2d_7\">\r\n      <g>\r\n       <use style=\"stroke:#000000;stroke-width:0.8;\" x=\"280.840625\" xlink:href=\"#m7c8359b99f\" y=\"75.944063\"/>\r\n      </g>\r\n     </g>\r\n     <g id=\"text_15\">\r\n      <!-- 0 -->\r\n      <g transform=\"translate(267.478125 79.743281)scale(0.1 -0.1)\">\r\n       <use xlink:href=\"#DejaVuSans-48\"/>\r\n      </g>\r\n     </g>\r\n    </g>\r\n    <g id=\"ytick_4\">\r\n     <g id=\"line2d_8\">\r\n      <g>\r\n       <use style=\"stroke:#000000;stroke-width:0.8;\" x=\"280.840625\" xlink:href=\"#m7c8359b99f\" y=\"180.156563\"/>\r\n      </g>\r\n     </g>\r\n     <g id=\"text_16\">\r\n      <!-- 1 -->\r\n      <g transform=\"translate(267.478125 183.955781)scale(0.1 -0.1)\">\r\n       <use xlink:href=\"#DejaVuSans-49\"/>\r\n      </g>\r\n     </g>\r\n    </g>\r\n    <g id=\"text_17\">\r\n     <!-- True label -->\r\n     <g transform=\"translate(261.398438 152.349531)rotate(-90)scale(0.1 -0.1)\">\r\n      <use xlink:href=\"#DejaVuSans-84\"/>\r\n      <use x=\"46.333984\" xlink:href=\"#DejaVuSans-114\"/>\r\n      <use x=\"87.447266\" xlink:href=\"#DejaVuSans-117\"/>\r\n      <use x=\"150.826172\" xlink:href=\"#DejaVuSans-101\"/>\r\n      <use x=\"212.349609\" xlink:href=\"#DejaVuSans-32\"/>\r\n      <use x=\"244.136719\" xlink:href=\"#DejaVuSans-108\"/>\r\n      <use x=\"271.919922\" xlink:href=\"#DejaVuSans-97\"/>\r\n      <use x=\"333.199219\" xlink:href=\"#DejaVuSans-98\"/>\r\n      <use x=\"396.675781\" xlink:href=\"#DejaVuSans-101\"/>\r\n      <use x=\"458.199219\" xlink:href=\"#DejaVuSans-108\"/>\r\n     </g>\r\n    </g>\r\n   </g>\r\n   <g id=\"patch_8\">\r\n    <path d=\"M 280.840625 232.262813 \r\nL 280.840625 23.837812 \r\n\" style=\"fill:none;stroke:#000000;stroke-linecap:square;stroke-linejoin:miter;stroke-width:0.8;\"/>\r\n   </g>\r\n   <g id=\"patch_9\">\r\n    <path d=\"M 489.265625 232.262813 \r\nL 489.265625 23.837812 \r\n\" style=\"fill:none;stroke:#000000;stroke-linecap:square;stroke-linejoin:miter;stroke-width:0.8;\"/>\r\n   </g>\r\n   <g id=\"patch_10\">\r\n    <path d=\"M 280.840625 232.262813 \r\nL 489.265625 232.262813 \r\n\" style=\"fill:none;stroke:#000000;stroke-linecap:square;stroke-linejoin:miter;stroke-width:0.8;\"/>\r\n   </g>\r\n   <g id=\"patch_11\">\r\n    <path d=\"M 280.840625 23.837812 \r\nL 489.265625 23.837812 \r\n\" style=\"fill:none;stroke:#000000;stroke-linecap:square;stroke-linejoin:miter;stroke-width:0.8;\"/>\r\n   </g>\r\n   <g id=\"text_18\">\r\n    <!-- 98% -->\r\n    <g style=\"fill:#f7fbff;\" transform=\"translate(321.833594 78.703438)scale(0.1 -0.1)\">\r\n     <defs>\r\n      <path d=\"M 72.703125 32.078125 \r\nQ 68.453125 32.078125 66.03125 28.46875 \r\nQ 63.625 24.859375 63.625 18.40625 \r\nQ 63.625 12.0625 66.03125 8.421875 \r\nQ 68.453125 4.78125 72.703125 4.78125 \r\nQ 76.859375 4.78125 79.265625 8.421875 \r\nQ 81.6875 12.0625 81.6875 18.40625 \r\nQ 81.6875 24.8125 79.265625 28.4375 \r\nQ 76.859375 32.078125 72.703125 32.078125 \r\nz\r\nM 72.703125 38.28125 \r\nQ 80.421875 38.28125 84.953125 32.90625 \r\nQ 89.5 27.546875 89.5 18.40625 \r\nQ 89.5 9.28125 84.9375 3.921875 \r\nQ 80.375 -1.421875 72.703125 -1.421875 \r\nQ 64.890625 -1.421875 60.34375 3.921875 \r\nQ 55.8125 9.28125 55.8125 18.40625 \r\nQ 55.8125 27.59375 60.375 32.9375 \r\nQ 64.9375 38.28125 72.703125 38.28125 \r\nz\r\nM 22.3125 68.015625 \r\nQ 18.109375 68.015625 15.6875 64.375 \r\nQ 13.28125 60.75 13.28125 54.390625 \r\nQ 13.28125 47.953125 15.671875 44.328125 \r\nQ 18.0625 40.71875 22.3125 40.71875 \r\nQ 26.5625 40.71875 28.96875 44.328125 \r\nQ 31.390625 47.953125 31.390625 54.390625 \r\nQ 31.390625 60.6875 28.953125 64.34375 \r\nQ 26.515625 68.015625 22.3125 68.015625 \r\nz\r\nM 66.40625 74.21875 \r\nL 74.21875 74.21875 \r\nL 28.609375 -1.421875 \r\nL 20.796875 -1.421875 \r\nz\r\nM 22.3125 74.21875 \r\nQ 30.03125 74.21875 34.609375 68.875 \r\nQ 39.203125 63.53125 39.203125 54.390625 \r\nQ 39.203125 45.171875 34.640625 39.84375 \r\nQ 30.078125 34.515625 22.3125 34.515625 \r\nQ 14.546875 34.515625 10.03125 39.859375 \r\nQ 5.515625 45.21875 5.515625 54.390625 \r\nQ 5.515625 63.484375 10.046875 68.84375 \r\nQ 14.59375 74.21875 22.3125 74.21875 \r\nz\r\n\" id=\"DejaVuSans-37\"/>\r\n     </defs>\r\n     <use xlink:href=\"#DejaVuSans-57\"/>\r\n     <use x=\"63.623047\" xlink:href=\"#DejaVuSans-56\"/>\r\n     <use x=\"127.246094\" xlink:href=\"#DejaVuSans-37\"/>\r\n    </g>\r\n   </g>\r\n   <g id=\"text_19\">\r\n    <!-- 2% -->\r\n    <g style=\"fill:#08306b;\" transform=\"translate(429.227344 78.703438)scale(0.1 -0.1)\">\r\n     <use xlink:href=\"#DejaVuSans-50\"/>\r\n     <use x=\"63.623047\" xlink:href=\"#DejaVuSans-37\"/>\r\n    </g>\r\n   </g>\r\n   <g id=\"text_20\">\r\n    <!-- 25% -->\r\n    <g style=\"fill:#08306b;\" transform=\"translate(321.833594 182.915938)scale(0.1 -0.1)\">\r\n     <use xlink:href=\"#DejaVuSans-50\"/>\r\n     <use x=\"63.623047\" xlink:href=\"#DejaVuSans-53\"/>\r\n     <use x=\"127.246094\" xlink:href=\"#DejaVuSans-37\"/>\r\n    </g>\r\n   </g>\r\n   <g id=\"text_21\">\r\n    <!-- 75% -->\r\n    <g style=\"fill:#f7fbff;\" transform=\"translate(426.046094 182.915938)scale(0.1 -0.1)\">\r\n     <defs>\r\n      <path d=\"M 8.203125 72.90625 \r\nL 55.078125 72.90625 \r\nL 55.078125 68.703125 \r\nL 28.609375 0 \r\nL 18.3125 0 \r\nL 43.21875 64.59375 \r\nL 8.203125 64.59375 \r\nz\r\n\" id=\"DejaVuSans-55\"/>\r\n     </defs>\r\n     <use xlink:href=\"#DejaVuSans-55\"/>\r\n     <use x=\"63.623047\" xlink:href=\"#DejaVuSans-53\"/>\r\n     <use x=\"127.246094\" xlink:href=\"#DejaVuSans-37\"/>\r\n    </g>\r\n   </g>\r\n   <g id=\"text_22\">\r\n    <!-- Matriz de Confusão Normalizada -->\r\n    <g transform=\"translate(271.361094 17.837812)scale(0.14 -0.14)\">\r\n     <defs>\r\n      <path d=\"M 9.8125 72.90625 \r\nL 23.09375 72.90625 \r\nL 55.421875 11.921875 \r\nL 55.421875 72.90625 \r\nL 64.984375 72.90625 \r\nL 64.984375 0 \r\nL 51.703125 0 \r\nL 19.390625 60.984375 \r\nL 19.390625 0 \r\nL 9.8125 0 \r\nz\r\n\" id=\"DejaVuSans-78\"/>\r\n      <path d=\"M 52 44.1875 \r\nQ 55.375 50.25 60.0625 53.125 \r\nQ 64.75 56 71.09375 56 \r\nQ 79.640625 56 84.28125 50.015625 \r\nQ 88.921875 44.046875 88.921875 33.015625 \r\nL 88.921875 0 \r\nL 79.890625 0 \r\nL 79.890625 32.71875 \r\nQ 79.890625 40.578125 77.09375 44.375 \r\nQ 74.3125 48.1875 68.609375 48.1875 \r\nQ 61.625 48.1875 57.5625 43.546875 \r\nQ 53.515625 38.921875 53.515625 30.90625 \r\nL 53.515625 0 \r\nL 44.484375 0 \r\nL 44.484375 32.71875 \r\nQ 44.484375 40.625 41.703125 44.40625 \r\nQ 38.921875 48.1875 33.109375 48.1875 \r\nQ 26.21875 48.1875 22.15625 43.53125 \r\nQ 18.109375 38.875 18.109375 30.90625 \r\nL 18.109375 0 \r\nL 9.078125 0 \r\nL 9.078125 54.6875 \r\nL 18.109375 54.6875 \r\nL 18.109375 46.1875 \r\nQ 21.1875 51.21875 25.484375 53.609375 \r\nQ 29.78125 56 35.6875 56 \r\nQ 41.65625 56 45.828125 52.96875 \r\nQ 50 49.953125 52 44.1875 \r\nz\r\n\" id=\"DejaVuSans-109\"/>\r\n     </defs>\r\n     <use xlink:href=\"#DejaVuSans-77\"/>\r\n     <use x=\"86.279297\" xlink:href=\"#DejaVuSans-97\"/>\r\n     <use x=\"147.558594\" xlink:href=\"#DejaVuSans-116\"/>\r\n     <use x=\"186.767578\" xlink:href=\"#DejaVuSans-114\"/>\r\n     <use x=\"227.880859\" xlink:href=\"#DejaVuSans-105\"/>\r\n     <use x=\"255.664062\" xlink:href=\"#DejaVuSans-122\"/>\r\n     <use x=\"308.154297\" xlink:href=\"#DejaVuSans-32\"/>\r\n     <use x=\"339.941406\" xlink:href=\"#DejaVuSans-100\"/>\r\n     <use x=\"403.417969\" xlink:href=\"#DejaVuSans-101\"/>\r\n     <use x=\"464.941406\" xlink:href=\"#DejaVuSans-32\"/>\r\n     <use x=\"496.728516\" xlink:href=\"#DejaVuSans-67\"/>\r\n     <use x=\"566.552734\" xlink:href=\"#DejaVuSans-111\"/>\r\n     <use x=\"627.734375\" xlink:href=\"#DejaVuSans-110\"/>\r\n     <use x=\"691.113281\" xlink:href=\"#DejaVuSans-102\"/>\r\n     <use x=\"726.318359\" xlink:href=\"#DejaVuSans-117\"/>\r\n     <use x=\"789.697266\" xlink:href=\"#DejaVuSans-115\"/>\r\n     <use x=\"841.796875\" xlink:href=\"#DejaVuSans-227\"/>\r\n     <use x=\"903.076172\" xlink:href=\"#DejaVuSans-111\"/>\r\n     <use x=\"964.257812\" xlink:href=\"#DejaVuSans-32\"/>\r\n     <use x=\"996.044922\" xlink:href=\"#DejaVuSans-78\"/>\r\n     <use x=\"1070.849609\" xlink:href=\"#DejaVuSans-111\"/>\r\n     <use x=\"1132.03125\" xlink:href=\"#DejaVuSans-114\"/>\r\n     <use x=\"1171.394531\" xlink:href=\"#DejaVuSans-109\"/>\r\n     <use x=\"1268.806641\" xlink:href=\"#DejaVuSans-97\"/>\r\n     <use x=\"1330.085938\" xlink:href=\"#DejaVuSans-108\"/>\r\n     <use x=\"1357.869141\" xlink:href=\"#DejaVuSans-105\"/>\r\n     <use x=\"1385.652344\" xlink:href=\"#DejaVuSans-122\"/>\r\n     <use x=\"1438.142578\" xlink:href=\"#DejaVuSans-97\"/>\r\n     <use x=\"1499.421875\" xlink:href=\"#DejaVuSans-100\"/>\r\n     <use x=\"1562.898438\" xlink:href=\"#DejaVuSans-97\"/>\r\n    </g>\r\n   </g>\r\n  </g>\r\n </g>\r\n <defs>\r\n  <clipPath id=\"p356d2df51f\">\r\n   <rect height=\"208.425\" width=\"208.425\" x=\"34.240625\" y=\"23.837812\"/>\r\n  </clipPath>\r\n  <clipPath id=\"pb9e1e14fbd\">\r\n   <rect height=\"208.425\" width=\"208.425\" x=\"280.840625\" y=\"23.837812\"/>\r\n  </clipPath>\r\n </defs>\r\n</svg>\r\n",
      "image/png": "[encoded data removed]"
     },
     "metadata": {
      "needs_background": "light"
     }
    }
   ],
   "source": [
    "fig, ax = plt.subplots(1, 2, figsize=[7, 7])\n",
    "\n",
    "cm = confusion_matrix(y_test, y_pred)\n",
    "ConfusionMatrixDisplay(cm).plot(cmap='Blues', ax=ax[0], colorbar=False)\n",
    "ax[0].set_title('Matriz de Confusão', fontsize=14)\n",
    "\n",
    "cm = confusion_matrix(y_test, y_pred, normalize='true')\n",
    "ConfusionMatrixDisplay(cm).plot(cmap='Blues', values_format='.0%', \n",
    "                                ax=ax[1], colorbar=False)\n",
    "ax[1].set_title('Matriz de Confusão Normalizada', fontsize=14)\n",
    "\n",
    "plt.tight_layout();"
   ]
  },
  {
   "source": [
    "## _classification report_"
   ],
   "cell_type": "markdown",
   "metadata": {}
  },
  {
   "cell_type": "code",
   "execution_count": 17,
   "metadata": {},
   "outputs": [
    {
     "output_type": "stream",
     "name": "stdout",
     "text": [
      "              precision    recall  f1-score   support\n\n           0       0.95      0.98      0.96     19546\n           1       0.87      0.75      0.80      3909\n\n    accuracy                           0.94     23455\n   macro avg       0.91      0.86      0.88     23455\nweighted avg       0.94      0.94      0.94     23455\n\n"
     ]
    }
   ],
   "source": [
    "print(classification_report(y_test, y_pred))"
   ]
  }
 ]
}